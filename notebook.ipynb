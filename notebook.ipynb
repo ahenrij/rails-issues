{
  "cells": [
    {
      "cell_type": "markdown",
      "metadata": {
        "id": "view-in-github",
        "colab_type": "text"
      },
      "source": [
        "<a href=\"https://colab.research.google.com/github/ahenrij/rails-issues-analysis/blob/main/notebook.ipynb\" target=\"_parent\"><img src=\"https://colab.research.google.com/assets/colab-badge.svg\" alt=\"Open In Colab\"/></a>"
      ]
    },
    {
      "cell_type": "markdown",
      "metadata": {
        "id": "G7-EXzmUiRVK"
      },
      "source": [
        "# Setup"
      ]
    },
    {
      "cell_type": "markdown",
      "source": [
        "This notebook presents the analysis of the latest 500 [Rails Github](https://github.com/rails/rails/issues) issues.\n",
        "The full project can be found [here](https://github.com/ahenrij/rails-issues-analysis). If your are using Colaboratory, you should create a data folder in the Files menu at the left of your environment, and drag files available in github project into this newly created folder.\n",
        "\n",
        "__Author__: Henri Aïdasso.\\\n",
        "__Since__: 2022-03-27"
      ],
      "metadata": {
        "id": "2rdsQD-mp5OH"
      }
    },
    {
      "cell_type": "code",
      "source": [
        "%%capture\n",
        "!pip3 install pickle5"
      ],
      "metadata": {
        "id": "Amr7F5_fkgJ4"
      },
      "execution_count": 473,
      "outputs": []
    },
    {
      "cell_type": "code",
      "execution_count": 474,
      "metadata": {
        "id": "9c6qXZHWiRVW"
      },
      "outputs": [],
      "source": [
        "import pickle5 as pickle\n",
        "import pandas as pd\n",
        "import numpy as np\n",
        "import matplotlib.pyplot as plt\n",
        "import seaborn as sns"
      ]
    },
    {
      "cell_type": "code",
      "execution_count": 475,
      "metadata": {
        "id": "Ebkxr92eiRVY"
      },
      "outputs": [],
      "source": [
        "# Constants\n",
        "data_path = './data/data.pickle'"
      ]
    },
    {
      "cell_type": "markdown",
      "metadata": {
        "id": "Ze8ySRWBiRVZ"
      },
      "source": [
        "# Load data"
      ]
    },
    {
      "cell_type": "code",
      "execution_count": 476,
      "metadata": {
        "colab": {
          "base_uri": "https://localhost:8080/",
          "height": 423
        },
        "id": "_--wuGzyiRVa",
        "outputId": "b778361f-cd9e-4b8b-e491-f6ebb2bba51b"
      },
      "outputs": [
        {
          "output_type": "execute_result",
          "data": {
            "text/plain": [
              "             id                                              title  \\\n",
              "0    1181447341  Multi level subdomain is not allowed after Rai...   \n",
              "1    1181332714     Remove override of ActiveModel#attribute_names   \n",
              "2    1180116072  Allow nested access for `secrets.yml` via meth...   \n",
              "3    1179461903  rich_text_area field with model validation err...   \n",
              "4    1179132566  `db:fixtures:load` raises in Postgres if there...   \n",
              "..          ...                                                ...   \n",
              "495   192343588  Including ActionView::Rendering in API control...   \n",
              "496   188229942                  ActionCable streaming performance   \n",
              "497   185765476  `deliver_later` raises unnecessarily due to ov...   \n",
              "498   181509062  When a parent model has `before/after_commit/r...   \n",
              "499   176220804  `rake test` on mountable engine `require` libr...   \n",
              "\n",
              "               user  comments state  \\\n",
              "0          r7kamura         0  open   \n",
              "1          kevindew         0  open   \n",
              "2     ghousemohamed         0  open   \n",
              "3        scottdavis         0  open   \n",
              "4            lxxxvi         0  open   \n",
              "..              ...       ...   ...   \n",
              "495  jpettettphaxio        15  open   \n",
              "496          palkan         7  open   \n",
              "497      derekprior         4  open   \n",
              "498        cannikin        10  open   \n",
              "499         asdacap         5  open   \n",
              "\n",
              "                                                labels            created_at  \\\n",
              "0                                                   []  2022-03-26T01:33:06Z   \n",
              "1                          [activemodel, activerecord]  2022-03-25T22:39:33Z   \n",
              "2                                           [railties]  2022-03-24T22:27:02Z   \n",
              "3                                         [actiontext]  2022-03-24T12:40:30Z   \n",
              "4                                       [activerecord]  2022-03-24T07:46:28Z   \n",
              "..                                                 ...                   ...   \n",
              "495  [actionpack, needs feedback, actionview, With ...  2016-11-29T17:14:26Z   \n",
              "496         [needs feedback, attached PR, actioncable]  2016-11-09T11:55:21Z   \n",
              "497  [actionmailer, needs feedback, With reproducti...  2016-10-27T19:59:05Z   \n",
              "498  [activerecord, needs feedback, With reproducti...  2016-10-06T19:50:35Z   \n",
              "499                 [engines, With reproduction steps]  2016-09-11T05:04:40Z   \n",
              "\n",
              "               updated_at closed_at  \n",
              "0    2022-03-26T01:33:34Z      None  \n",
              "1    2022-03-26T10:50:30Z      None  \n",
              "2    2022-03-25T14:52:53Z      None  \n",
              "3    2022-03-25T20:34:51Z      None  \n",
              "4    2022-03-24T07:46:31Z      None  \n",
              "..                    ...       ...  \n",
              "495  2020-08-03T23:42:22Z      None  \n",
              "496  2018-10-08T17:41:02Z      None  \n",
              "497  2021-06-21T19:33:07Z      None  \n",
              "498  2020-05-19T02:01:28Z      None  \n",
              "499  2018-10-21T20:48:35Z      None  \n",
              "\n",
              "[500 rows x 9 columns]"
            ],
            "text/html": [
              "\n",
              "  <div id=\"df-12aa725b-2bc1-4bb0-943e-33f9ebd46c03\">\n",
              "    <div class=\"colab-df-container\">\n",
              "      <div>\n",
              "<style scoped>\n",
              "    .dataframe tbody tr th:only-of-type {\n",
              "        vertical-align: middle;\n",
              "    }\n",
              "\n",
              "    .dataframe tbody tr th {\n",
              "        vertical-align: top;\n",
              "    }\n",
              "\n",
              "    .dataframe thead th {\n",
              "        text-align: right;\n",
              "    }\n",
              "</style>\n",
              "<table border=\"1\" class=\"dataframe\">\n",
              "  <thead>\n",
              "    <tr style=\"text-align: right;\">\n",
              "      <th></th>\n",
              "      <th>id</th>\n",
              "      <th>title</th>\n",
              "      <th>user</th>\n",
              "      <th>comments</th>\n",
              "      <th>state</th>\n",
              "      <th>labels</th>\n",
              "      <th>created_at</th>\n",
              "      <th>updated_at</th>\n",
              "      <th>closed_at</th>\n",
              "    </tr>\n",
              "  </thead>\n",
              "  <tbody>\n",
              "    <tr>\n",
              "      <th>0</th>\n",
              "      <td>1181447341</td>\n",
              "      <td>Multi level subdomain is not allowed after Rai...</td>\n",
              "      <td>r7kamura</td>\n",
              "      <td>0</td>\n",
              "      <td>open</td>\n",
              "      <td>[]</td>\n",
              "      <td>2022-03-26T01:33:06Z</td>\n",
              "      <td>2022-03-26T01:33:34Z</td>\n",
              "      <td>None</td>\n",
              "    </tr>\n",
              "    <tr>\n",
              "      <th>1</th>\n",
              "      <td>1181332714</td>\n",
              "      <td>Remove override of ActiveModel#attribute_names</td>\n",
              "      <td>kevindew</td>\n",
              "      <td>0</td>\n",
              "      <td>open</td>\n",
              "      <td>[activemodel, activerecord]</td>\n",
              "      <td>2022-03-25T22:39:33Z</td>\n",
              "      <td>2022-03-26T10:50:30Z</td>\n",
              "      <td>None</td>\n",
              "    </tr>\n",
              "    <tr>\n",
              "      <th>2</th>\n",
              "      <td>1180116072</td>\n",
              "      <td>Allow nested access for `secrets.yml` via meth...</td>\n",
              "      <td>ghousemohamed</td>\n",
              "      <td>0</td>\n",
              "      <td>open</td>\n",
              "      <td>[railties]</td>\n",
              "      <td>2022-03-24T22:27:02Z</td>\n",
              "      <td>2022-03-25T14:52:53Z</td>\n",
              "      <td>None</td>\n",
              "    </tr>\n",
              "    <tr>\n",
              "      <th>3</th>\n",
              "      <td>1179461903</td>\n",
              "      <td>rich_text_area field with model validation err...</td>\n",
              "      <td>scottdavis</td>\n",
              "      <td>0</td>\n",
              "      <td>open</td>\n",
              "      <td>[actiontext]</td>\n",
              "      <td>2022-03-24T12:40:30Z</td>\n",
              "      <td>2022-03-25T20:34:51Z</td>\n",
              "      <td>None</td>\n",
              "    </tr>\n",
              "    <tr>\n",
              "      <th>4</th>\n",
              "      <td>1179132566</td>\n",
              "      <td>`db:fixtures:load` raises in Postgres if there...</td>\n",
              "      <td>lxxxvi</td>\n",
              "      <td>0</td>\n",
              "      <td>open</td>\n",
              "      <td>[activerecord]</td>\n",
              "      <td>2022-03-24T07:46:28Z</td>\n",
              "      <td>2022-03-24T07:46:31Z</td>\n",
              "      <td>None</td>\n",
              "    </tr>\n",
              "    <tr>\n",
              "      <th>...</th>\n",
              "      <td>...</td>\n",
              "      <td>...</td>\n",
              "      <td>...</td>\n",
              "      <td>...</td>\n",
              "      <td>...</td>\n",
              "      <td>...</td>\n",
              "      <td>...</td>\n",
              "      <td>...</td>\n",
              "      <td>...</td>\n",
              "    </tr>\n",
              "    <tr>\n",
              "      <th>495</th>\n",
              "      <td>192343588</td>\n",
              "      <td>Including ActionView::Rendering in API control...</td>\n",
              "      <td>jpettettphaxio</td>\n",
              "      <td>15</td>\n",
              "      <td>open</td>\n",
              "      <td>[actionpack, needs feedback, actionview, With ...</td>\n",
              "      <td>2016-11-29T17:14:26Z</td>\n",
              "      <td>2020-08-03T23:42:22Z</td>\n",
              "      <td>None</td>\n",
              "    </tr>\n",
              "    <tr>\n",
              "      <th>496</th>\n",
              "      <td>188229942</td>\n",
              "      <td>ActionCable streaming performance</td>\n",
              "      <td>palkan</td>\n",
              "      <td>7</td>\n",
              "      <td>open</td>\n",
              "      <td>[needs feedback, attached PR, actioncable]</td>\n",
              "      <td>2016-11-09T11:55:21Z</td>\n",
              "      <td>2018-10-08T17:41:02Z</td>\n",
              "      <td>None</td>\n",
              "    </tr>\n",
              "    <tr>\n",
              "      <th>497</th>\n",
              "      <td>185765476</td>\n",
              "      <td>`deliver_later` raises unnecessarily due to ov...</td>\n",
              "      <td>derekprior</td>\n",
              "      <td>4</td>\n",
              "      <td>open</td>\n",
              "      <td>[actionmailer, needs feedback, With reproducti...</td>\n",
              "      <td>2016-10-27T19:59:05Z</td>\n",
              "      <td>2021-06-21T19:33:07Z</td>\n",
              "      <td>None</td>\n",
              "    </tr>\n",
              "    <tr>\n",
              "      <th>498</th>\n",
              "      <td>181509062</td>\n",
              "      <td>When a parent model has `before/after_commit/r...</td>\n",
              "      <td>cannikin</td>\n",
              "      <td>10</td>\n",
              "      <td>open</td>\n",
              "      <td>[activerecord, needs feedback, With reproducti...</td>\n",
              "      <td>2016-10-06T19:50:35Z</td>\n",
              "      <td>2020-05-19T02:01:28Z</td>\n",
              "      <td>None</td>\n",
              "    </tr>\n",
              "    <tr>\n",
              "      <th>499</th>\n",
              "      <td>176220804</td>\n",
              "      <td>`rake test` on mountable engine `require` libr...</td>\n",
              "      <td>asdacap</td>\n",
              "      <td>5</td>\n",
              "      <td>open</td>\n",
              "      <td>[engines, With reproduction steps]</td>\n",
              "      <td>2016-09-11T05:04:40Z</td>\n",
              "      <td>2018-10-21T20:48:35Z</td>\n",
              "      <td>None</td>\n",
              "    </tr>\n",
              "  </tbody>\n",
              "</table>\n",
              "<p>500 rows × 9 columns</p>\n",
              "</div>\n",
              "      <button class=\"colab-df-convert\" onclick=\"convertToInteractive('df-12aa725b-2bc1-4bb0-943e-33f9ebd46c03')\"\n",
              "              title=\"Convert this dataframe to an interactive table.\"\n",
              "              style=\"display:none;\">\n",
              "        \n",
              "  <svg xmlns=\"http://www.w3.org/2000/svg\" height=\"24px\"viewBox=\"0 0 24 24\"\n",
              "       width=\"24px\">\n",
              "    <path d=\"M0 0h24v24H0V0z\" fill=\"none\"/>\n",
              "    <path d=\"M18.56 5.44l.94 2.06.94-2.06 2.06-.94-2.06-.94-.94-2.06-.94 2.06-2.06.94zm-11 1L8.5 8.5l.94-2.06 2.06-.94-2.06-.94L8.5 2.5l-.94 2.06-2.06.94zm10 10l.94 2.06.94-2.06 2.06-.94-2.06-.94-.94-2.06-.94 2.06-2.06.94z\"/><path d=\"M17.41 7.96l-1.37-1.37c-.4-.4-.92-.59-1.43-.59-.52 0-1.04.2-1.43.59L10.3 9.45l-7.72 7.72c-.78.78-.78 2.05 0 2.83L4 21.41c.39.39.9.59 1.41.59.51 0 1.02-.2 1.41-.59l7.78-7.78 2.81-2.81c.8-.78.8-2.07 0-2.86zM5.41 20L4 18.59l7.72-7.72 1.47 1.35L5.41 20z\"/>\n",
              "  </svg>\n",
              "      </button>\n",
              "      \n",
              "  <style>\n",
              "    .colab-df-container {\n",
              "      display:flex;\n",
              "      flex-wrap:wrap;\n",
              "      gap: 12px;\n",
              "    }\n",
              "\n",
              "    .colab-df-convert {\n",
              "      background-color: #E8F0FE;\n",
              "      border: none;\n",
              "      border-radius: 50%;\n",
              "      cursor: pointer;\n",
              "      display: none;\n",
              "      fill: #1967D2;\n",
              "      height: 32px;\n",
              "      padding: 0 0 0 0;\n",
              "      width: 32px;\n",
              "    }\n",
              "\n",
              "    .colab-df-convert:hover {\n",
              "      background-color: #E2EBFA;\n",
              "      box-shadow: 0px 1px 2px rgba(60, 64, 67, 0.3), 0px 1px 3px 1px rgba(60, 64, 67, 0.15);\n",
              "      fill: #174EA6;\n",
              "    }\n",
              "\n",
              "    [theme=dark] .colab-df-convert {\n",
              "      background-color: #3B4455;\n",
              "      fill: #D2E3FC;\n",
              "    }\n",
              "\n",
              "    [theme=dark] .colab-df-convert:hover {\n",
              "      background-color: #434B5C;\n",
              "      box-shadow: 0px 1px 3px 1px rgba(0, 0, 0, 0.15);\n",
              "      filter: drop-shadow(0px 1px 2px rgba(0, 0, 0, 0.3));\n",
              "      fill: #FFFFFF;\n",
              "    }\n",
              "  </style>\n",
              "\n",
              "      <script>\n",
              "        const buttonEl =\n",
              "          document.querySelector('#df-12aa725b-2bc1-4bb0-943e-33f9ebd46c03 button.colab-df-convert');\n",
              "        buttonEl.style.display =\n",
              "          google.colab.kernel.accessAllowed ? 'block' : 'none';\n",
              "\n",
              "        async function convertToInteractive(key) {\n",
              "          const element = document.querySelector('#df-12aa725b-2bc1-4bb0-943e-33f9ebd46c03');\n",
              "          const dataTable =\n",
              "            await google.colab.kernel.invokeFunction('convertToInteractive',\n",
              "                                                     [key], {});\n",
              "          if (!dataTable) return;\n",
              "\n",
              "          const docLinkHtml = 'Like what you see? Visit the ' +\n",
              "            '<a target=\"_blank\" href=https://colab.research.google.com/notebooks/data_table.ipynb>data table notebook</a>'\n",
              "            + ' to learn more about interactive tables.';\n",
              "          element.innerHTML = '';\n",
              "          dataTable['output_type'] = 'display_data';\n",
              "          await google.colab.output.renderOutput(dataTable, element);\n",
              "          const docLink = document.createElement('div');\n",
              "          docLink.innerHTML = docLinkHtml;\n",
              "          element.appendChild(docLink);\n",
              "        }\n",
              "      </script>\n",
              "    </div>\n",
              "  </div>\n",
              "  "
            ]
          },
          "metadata": {},
          "execution_count": 476
        }
      ],
      "source": [
        "with open(data_path, 'rb') as f:\n",
        "  data = pickle.load(f)\n",
        "\n",
        "df = pd.DataFrame(data)\n",
        "df"
      ]
    },
    {
      "cell_type": "markdown",
      "source": [
        "# Data Validation"
      ],
      "metadata": {
        "id": "O8SzaET4rRML"
      }
    },
    {
      "cell_type": "code",
      "execution_count": 477,
      "metadata": {
        "colab": {
          "base_uri": "https://localhost:8080/"
        },
        "id": "pqFOK3kgiRVb",
        "outputId": "3fd7c519-8b72-43de-9a01-9bcd95930877"
      },
      "outputs": [
        {
          "output_type": "stream",
          "name": "stdout",
          "text": [
            "<class 'pandas.core.frame.DataFrame'>\n",
            "RangeIndex: 500 entries, 0 to 499\n",
            "Data columns (total 9 columns):\n",
            " #   Column      Non-Null Count  Dtype \n",
            "---  ------      --------------  ----- \n",
            " 0   id          500 non-null    int64 \n",
            " 1   title       500 non-null    object\n",
            " 2   user        500 non-null    object\n",
            " 3   comments    500 non-null    int64 \n",
            " 4   state       500 non-null    object\n",
            " 5   labels      500 non-null    object\n",
            " 6   created_at  500 non-null    object\n",
            " 7   updated_at  500 non-null    object\n",
            " 8   closed_at   0 non-null      object\n",
            "dtypes: int64(2), object(7)\n",
            "memory usage: 35.3+ KB\n"
          ]
        }
      ],
      "source": [
        "df.info()"
      ]
    },
    {
      "cell_type": "markdown",
      "metadata": {
        "id": "gWgMI45-iRVc"
      },
      "source": [
        "The dataframe info helps us notice that there are no value for the `closed_at` attribute. We will double check that information below using the `state` attribute."
      ]
    },
    {
      "cell_type": "code",
      "execution_count": 478,
      "metadata": {
        "colab": {
          "base_uri": "https://localhost:8080/",
          "height": 388
        },
        "id": "AnjW9lm8iRVd",
        "outputId": "4085ee6e-d1b6-46bd-b250-1cd9a9601d8e"
      },
      "outputs": [
        {
          "output_type": "execute_result",
          "data": {
            "text/plain": [
              "<seaborn.axisgrid.FacetGrid at 0x7f540916a5d0>"
            ]
          },
          "metadata": {},
          "execution_count": 478
        },
        {
          "output_type": "display_data",
          "data": {
            "text/plain": [
              "<Figure size 360x360 with 1 Axes>"
            ],
            "image/png": "[encoded data removed]"
          },
          "metadata": {
            "needs_background": "light"
          }
        }
      ],
      "source": [
        "sns.catplot(x='state', kind='count', palette='Greys_r', data=df)"
      ]
    },
    {
      "cell_type": "markdown",
      "metadata": {
        "id": "ERIFacdriRVe"
      },
      "source": [
        "We can clearly see that all the 500 latest issues are still opened."
      ]
    },
    {
      "cell_type": "markdown",
      "source": [
        "Those columns (state and close_at) are therefore unuseful to us. We choose to remove them."
      ],
      "metadata": {
        "id": "tUDIHsvOm97H"
      }
    },
    {
      "cell_type": "code",
      "source": [
        "df.drop(labels=['state', 'closed_at'], axis=1, inplace=True)"
      ],
      "metadata": {
        "id": "0pqmQ31anHB9"
      },
      "execution_count": 479,
      "outputs": []
    },
    {
      "cell_type": "markdown",
      "metadata": {
        "id": "qU9fgn3liRVf"
      },
      "source": [
        "Before we continue, let us fix some columns types"
      ]
    },
    {
      "cell_type": "code",
      "execution_count": 480,
      "metadata": {
        "id": "LfUInd2CiRVg"
      },
      "outputs": [],
      "source": [
        "# date & time columns\n",
        "df['created_at'] = pd.to_datetime(df['created_at'])\n",
        "df['updated_at'] = pd.to_datetime(df['updated_at'])\n",
        "\n",
        "# one hot encode labels\n",
        "labels = df['labels'].str.join('|').str.get_dummies()"
      ]
    },
    {
      "cell_type": "code",
      "execution_count": 481,
      "metadata": {
        "colab": {
          "base_uri": "https://localhost:8080/"
        },
        "id": "ZjyUNLDPiRVg",
        "outputId": "b2917939-9581-41c2-e186-a516bf19a98b"
      },
      "outputs": [
        {
          "output_type": "stream",
          "name": "stdout",
          "text": [
            "<class 'pandas.core.frame.DataFrame'>\n",
            "RangeIndex: 500 entries, 0 to 499\n",
            "Data columns (total 7 columns):\n",
            " #   Column      Non-Null Count  Dtype              \n",
            "---  ------      --------------  -----              \n",
            " 0   id          500 non-null    int64              \n",
            " 1   title       500 non-null    object             \n",
            " 2   user        500 non-null    object             \n",
            " 3   comments    500 non-null    int64              \n",
            " 4   labels      500 non-null    object             \n",
            " 5   created_at  500 non-null    datetime64[ns, UTC]\n",
            " 6   updated_at  500 non-null    datetime64[ns, UTC]\n",
            "dtypes: datetime64[ns, UTC](2), int64(2), object(3)\n",
            "memory usage: 27.5+ KB\n"
          ]
        }
      ],
      "source": [
        "df.info()"
      ]
    },
    {
      "cell_type": "markdown",
      "metadata": {
        "id": "xmmVSzKNiRVh"
      },
      "source": [
        "We now have correct date time types for `created_at` and `updated_at` columns. We left `closed_at` column as it is not useful."
      ]
    },
    {
      "cell_type": "code",
      "execution_count": 482,
      "metadata": {
        "colab": {
          "base_uri": "https://localhost:8080/",
          "height": 522
        },
        "id": "m8e-9nQbiRVh",
        "outputId": "a6e140cc-8fd8-49fc-a77a-239929f89683"
      },
      "outputs": [
        {
          "output_type": "execute_result",
          "data": {
            "text/plain": [
              "     PostgreSQL  With reproduction steps  actioncable  actionmailbox  \\\n",
              "0             0                        0            0              0   \n",
              "1             0                        0            0              0   \n",
              "2             0                        0            0              0   \n",
              "3             0                        0            0              0   \n",
              "4             0                        0            0              0   \n",
              "..          ...                      ...          ...            ...   \n",
              "495           0                        1            0              0   \n",
              "496           0                        0            1              0   \n",
              "497           0                        1            0              0   \n",
              "498           0                        1            0              0   \n",
              "499           0                        1            0              0   \n",
              "\n",
              "     actionmailer  actionpack  actiontext  actionview  activejob  activemodel  \\\n",
              "0               0           0           0           0          0            0   \n",
              "1               0           0           0           0          0            1   \n",
              "2               0           0           0           0          0            0   \n",
              "3               0           0           1           0          0            0   \n",
              "4               0           0           0           0          0            0   \n",
              "..            ...         ...         ...         ...        ...          ...   \n",
              "495             0           1           0           1          0            0   \n",
              "496             0           0           0           0          0            0   \n",
              "497             1           0           0           0          0            0   \n",
              "498             0           0           0           0          0            0   \n",
              "499             0           0           0           0          0            0   \n",
              "\n",
              "     ...  parallel testing  pinned  rails-ujs  railties  ready  regression  \\\n",
              "0    ...                 0       0          0         0      0           0   \n",
              "1    ...                 0       0          0         0      0           0   \n",
              "2    ...                 0       0          0         1      0           0   \n",
              "3    ...                 0       0          0         0      0           0   \n",
              "4    ...                 0       0          0         0      0           0   \n",
              "..   ...               ...     ...        ...       ...    ...         ...   \n",
              "495  ...                 0       0          0         0      0           0   \n",
              "496  ...                 0       0          0         0      0           0   \n",
              "497  ...                 0       0          0         0      0           0   \n",
              "498  ...                 0       0          0         0      0           0   \n",
              "499  ...                 0       0          0         0      0           0   \n",
              "\n",
              "     routing  security  stale  third party issue  \n",
              "0          0         0      0                  0  \n",
              "1          0         0      0                  0  \n",
              "2          0         0      0                  0  \n",
              "3          0         0      0                  0  \n",
              "4          0         0      0                  0  \n",
              "..       ...       ...    ...                ...  \n",
              "495        0         0      0                  0  \n",
              "496        0         0      0                  0  \n",
              "497        0         0      0                  0  \n",
              "498        0         0      0                  0  \n",
              "499        0         0      0                  0  \n",
              "\n",
              "[500 rows x 31 columns]"
            ],
            "text/html": [
              "\n",
              "  <div id=\"df-b47d5f81-c55a-4e7f-a837-742eb5e38942\">\n",
              "    <div class=\"colab-df-container\">\n",
              "      <div>\n",
              "<style scoped>\n",
              "    .dataframe tbody tr th:only-of-type {\n",
              "        vertical-align: middle;\n",
              "    }\n",
              "\n",
              "    .dataframe tbody tr th {\n",
              "        vertical-align: top;\n",
              "    }\n",
              "\n",
              "    .dataframe thead th {\n",
              "        text-align: right;\n",
              "    }\n",
              "</style>\n",
              "<table border=\"1\" class=\"dataframe\">\n",
              "  <thead>\n",
              "    <tr style=\"text-align: right;\">\n",
              "      <th></th>\n",
              "      <th>PostgreSQL</th>\n",
              "      <th>With reproduction steps</th>\n",
              "      <th>actioncable</th>\n",
              "      <th>actionmailbox</th>\n",
              "      <th>actionmailer</th>\n",
              "      <th>actionpack</th>\n",
              "      <th>actiontext</th>\n",
              "      <th>actionview</th>\n",
              "      <th>activejob</th>\n",
              "      <th>activemodel</th>\n",
              "      <th>...</th>\n",
              "      <th>parallel testing</th>\n",
              "      <th>pinned</th>\n",
              "      <th>rails-ujs</th>\n",
              "      <th>railties</th>\n",
              "      <th>ready</th>\n",
              "      <th>regression</th>\n",
              "      <th>routing</th>\n",
              "      <th>security</th>\n",
              "      <th>stale</th>\n",
              "      <th>third party issue</th>\n",
              "    </tr>\n",
              "  </thead>\n",
              "  <tbody>\n",
              "    <tr>\n",
              "      <th>0</th>\n",
              "      <td>0</td>\n",
              "      <td>0</td>\n",
              "      <td>0</td>\n",
              "      <td>0</td>\n",
              "      <td>0</td>\n",
              "      <td>0</td>\n",
              "      <td>0</td>\n",
              "      <td>0</td>\n",
              "      <td>0</td>\n",
              "      <td>0</td>\n",
              "      <td>...</td>\n",
              "      <td>0</td>\n",
              "      <td>0</td>\n",
              "      <td>0</td>\n",
              "      <td>0</td>\n",
              "      <td>0</td>\n",
              "      <td>0</td>\n",
              "      <td>0</td>\n",
              "      <td>0</td>\n",
              "      <td>0</td>\n",
              "      <td>0</td>\n",
              "    </tr>\n",
              "    <tr>\n",
              "      <th>1</th>\n",
              "      <td>0</td>\n",
              "      <td>0</td>\n",
              "      <td>0</td>\n",
              "      <td>0</td>\n",
              "      <td>0</td>\n",
              "      <td>0</td>\n",
              "      <td>0</td>\n",
              "      <td>0</td>\n",
              "      <td>0</td>\n",
              "      <td>1</td>\n",
              "      <td>...</td>\n",
              "      <td>0</td>\n",
              "      <td>0</td>\n",
              "      <td>0</td>\n",
              "      <td>0</td>\n",
              "      <td>0</td>\n",
              "      <td>0</td>\n",
              "      <td>0</td>\n",
              "      <td>0</td>\n",
              "      <td>0</td>\n",
              "      <td>0</td>\n",
              "    </tr>\n",
              "    <tr>\n",
              "      <th>2</th>\n",
              "      <td>0</td>\n",
              "      <td>0</td>\n",
              "      <td>0</td>\n",
              "      <td>0</td>\n",
              "      <td>0</td>\n",
              "      <td>0</td>\n",
              "      <td>0</td>\n",
              "      <td>0</td>\n",
              "      <td>0</td>\n",
              "      <td>0</td>\n",
              "      <td>...</td>\n",
              "      <td>0</td>\n",
              "      <td>0</td>\n",
              "      <td>0</td>\n",
              "      <td>1</td>\n",
              "      <td>0</td>\n",
              "      <td>0</td>\n",
              "      <td>0</td>\n",
              "      <td>0</td>\n",
              "      <td>0</td>\n",
              "      <td>0</td>\n",
              "    </tr>\n",
              "    <tr>\n",
              "      <th>3</th>\n",
              "      <td>0</td>\n",
              "      <td>0</td>\n",
              "      <td>0</td>\n",
              "      <td>0</td>\n",
              "      <td>0</td>\n",
              "      <td>0</td>\n",
              "      <td>1</td>\n",
              "      <td>0</td>\n",
              "      <td>0</td>\n",
              "      <td>0</td>\n",
              "      <td>...</td>\n",
              "      <td>0</td>\n",
              "      <td>0</td>\n",
              "      <td>0</td>\n",
              "      <td>0</td>\n",
              "      <td>0</td>\n",
              "      <td>0</td>\n",
              "      <td>0</td>\n",
              "      <td>0</td>\n",
              "      <td>0</td>\n",
              "      <td>0</td>\n",
              "    </tr>\n",
              "    <tr>\n",
              "      <th>4</th>\n",
              "      <td>0</td>\n",
              "      <td>0</td>\n",
              "      <td>0</td>\n",
              "      <td>0</td>\n",
              "      <td>0</td>\n",
              "      <td>0</td>\n",
              "      <td>0</td>\n",
              "      <td>0</td>\n",
              "      <td>0</td>\n",
              "      <td>0</td>\n",
              "      <td>...</td>\n",
              "      <td>0</td>\n",
              "      <td>0</td>\n",
              "      <td>0</td>\n",
              "      <td>0</td>\n",
              "      <td>0</td>\n",
              "      <td>0</td>\n",
              "      <td>0</td>\n",
              "      <td>0</td>\n",
              "      <td>0</td>\n",
              "      <td>0</td>\n",
              "    </tr>\n",
              "    <tr>\n",
              "      <th>...</th>\n",
              "      <td>...</td>\n",
              "      <td>...</td>\n",
              "      <td>...</td>\n",
              "      <td>...</td>\n",
              "      <td>...</td>\n",
              "      <td>...</td>\n",
              "      <td>...</td>\n",
              "      <td>...</td>\n",
              "      <td>...</td>\n",
              "      <td>...</td>\n",
              "      <td>...</td>\n",
              "      <td>...</td>\n",
              "      <td>...</td>\n",
              "      <td>...</td>\n",
              "      <td>...</td>\n",
              "      <td>...</td>\n",
              "      <td>...</td>\n",
              "      <td>...</td>\n",
              "      <td>...</td>\n",
              "      <td>...</td>\n",
              "      <td>...</td>\n",
              "    </tr>\n",
              "    <tr>\n",
              "      <th>495</th>\n",
              "      <td>0</td>\n",
              "      <td>1</td>\n",
              "      <td>0</td>\n",
              "      <td>0</td>\n",
              "      <td>0</td>\n",
              "      <td>1</td>\n",
              "      <td>0</td>\n",
              "      <td>1</td>\n",
              "      <td>0</td>\n",
              "      <td>0</td>\n",
              "      <td>...</td>\n",
              "      <td>0</td>\n",
              "      <td>0</td>\n",
              "      <td>0</td>\n",
              "      <td>0</td>\n",
              "      <td>0</td>\n",
              "      <td>0</td>\n",
              "      <td>0</td>\n",
              "      <td>0</td>\n",
              "      <td>0</td>\n",
              "      <td>0</td>\n",
              "    </tr>\n",
              "    <tr>\n",
              "      <th>496</th>\n",
              "      <td>0</td>\n",
              "      <td>0</td>\n",
              "      <td>1</td>\n",
              "      <td>0</td>\n",
              "      <td>0</td>\n",
              "      <td>0</td>\n",
              "      <td>0</td>\n",
              "      <td>0</td>\n",
              "      <td>0</td>\n",
              "      <td>0</td>\n",
              "      <td>...</td>\n",
              "      <td>0</td>\n",
              "      <td>0</td>\n",
              "      <td>0</td>\n",
              "      <td>0</td>\n",
              "      <td>0</td>\n",
              "      <td>0</td>\n",
              "      <td>0</td>\n",
              "      <td>0</td>\n",
              "      <td>0</td>\n",
              "      <td>0</td>\n",
              "    </tr>\n",
              "    <tr>\n",
              "      <th>497</th>\n",
              "      <td>0</td>\n",
              "      <td>1</td>\n",
              "      <td>0</td>\n",
              "      <td>0</td>\n",
              "      <td>1</td>\n",
              "      <td>0</td>\n",
              "      <td>0</td>\n",
              "      <td>0</td>\n",
              "      <td>0</td>\n",
              "      <td>0</td>\n",
              "      <td>...</td>\n",
              "      <td>0</td>\n",
              "      <td>0</td>\n",
              "      <td>0</td>\n",
              "      <td>0</td>\n",
              "      <td>0</td>\n",
              "      <td>0</td>\n",
              "      <td>0</td>\n",
              "      <td>0</td>\n",
              "      <td>0</td>\n",
              "      <td>0</td>\n",
              "    </tr>\n",
              "    <tr>\n",
              "      <th>498</th>\n",
              "      <td>0</td>\n",
              "      <td>1</td>\n",
              "      <td>0</td>\n",
              "      <td>0</td>\n",
              "      <td>0</td>\n",
              "      <td>0</td>\n",
              "      <td>0</td>\n",
              "      <td>0</td>\n",
              "      <td>0</td>\n",
              "      <td>0</td>\n",
              "      <td>...</td>\n",
              "      <td>0</td>\n",
              "      <td>0</td>\n",
              "      <td>0</td>\n",
              "      <td>0</td>\n",
              "      <td>0</td>\n",
              "      <td>0</td>\n",
              "      <td>0</td>\n",
              "      <td>0</td>\n",
              "      <td>0</td>\n",
              "      <td>0</td>\n",
              "    </tr>\n",
              "    <tr>\n",
              "      <th>499</th>\n",
              "      <td>0</td>\n",
              "      <td>1</td>\n",
              "      <td>0</td>\n",
              "      <td>0</td>\n",
              "      <td>0</td>\n",
              "      <td>0</td>\n",
              "      <td>0</td>\n",
              "      <td>0</td>\n",
              "      <td>0</td>\n",
              "      <td>0</td>\n",
              "      <td>...</td>\n",
              "      <td>0</td>\n",
              "      <td>0</td>\n",
              "      <td>0</td>\n",
              "      <td>0</td>\n",
              "      <td>0</td>\n",
              "      <td>0</td>\n",
              "      <td>0</td>\n",
              "      <td>0</td>\n",
              "      <td>0</td>\n",
              "      <td>0</td>\n",
              "    </tr>\n",
              "  </tbody>\n",
              "</table>\n",
              "<p>500 rows × 31 columns</p>\n",
              "</div>\n",
              "      <button class=\"colab-df-convert\" onclick=\"convertToInteractive('df-b47d5f81-c55a-4e7f-a837-742eb5e38942')\"\n",
              "              title=\"Convert this dataframe to an interactive table.\"\n",
              "              style=\"display:none;\">\n",
              "        \n",
              "  <svg xmlns=\"http://www.w3.org/2000/svg\" height=\"24px\"viewBox=\"0 0 24 24\"\n",
              "       width=\"24px\">\n",
              "    <path d=\"M0 0h24v24H0V0z\" fill=\"none\"/>\n",
              "    <path d=\"M18.56 5.44l.94 2.06.94-2.06 2.06-.94-2.06-.94-.94-2.06-.94 2.06-2.06.94zm-11 1L8.5 8.5l.94-2.06 2.06-.94-2.06-.94L8.5 2.5l-.94 2.06-2.06.94zm10 10l.94 2.06.94-2.06 2.06-.94-2.06-.94-.94-2.06-.94 2.06-2.06.94z\"/><path d=\"M17.41 7.96l-1.37-1.37c-.4-.4-.92-.59-1.43-.59-.52 0-1.04.2-1.43.59L10.3 9.45l-7.72 7.72c-.78.78-.78 2.05 0 2.83L4 21.41c.39.39.9.59 1.41.59.51 0 1.02-.2 1.41-.59l7.78-7.78 2.81-2.81c.8-.78.8-2.07 0-2.86zM5.41 20L4 18.59l7.72-7.72 1.47 1.35L5.41 20z\"/>\n",
              "  </svg>\n",
              "      </button>\n",
              "      \n",
              "  <style>\n",
              "    .colab-df-container {\n",
              "      display:flex;\n",
              "      flex-wrap:wrap;\n",
              "      gap: 12px;\n",
              "    }\n",
              "\n",
              "    .colab-df-convert {\n",
              "      background-color: #E8F0FE;\n",
              "      border: none;\n",
              "      border-radius: 50%;\n",
              "      cursor: pointer;\n",
              "      display: none;\n",
              "      fill: #1967D2;\n",
              "      height: 32px;\n",
              "      padding: 0 0 0 0;\n",
              "      width: 32px;\n",
              "    }\n",
              "\n",
              "    .colab-df-convert:hover {\n",
              "      background-color: #E2EBFA;\n",
              "      box-shadow: 0px 1px 2px rgba(60, 64, 67, 0.3), 0px 1px 3px 1px rgba(60, 64, 67, 0.15);\n",
              "      fill: #174EA6;\n",
              "    }\n",
              "\n",
              "    [theme=dark] .colab-df-convert {\n",
              "      background-color: #3B4455;\n",
              "      fill: #D2E3FC;\n",
              "    }\n",
              "\n",
              "    [theme=dark] .colab-df-convert:hover {\n",
              "      background-color: #434B5C;\n",
              "      box-shadow: 0px 1px 3px 1px rgba(0, 0, 0, 0.15);\n",
              "      filter: drop-shadow(0px 1px 2px rgba(0, 0, 0, 0.3));\n",
              "      fill: #FFFFFF;\n",
              "    }\n",
              "  </style>\n",
              "\n",
              "      <script>\n",
              "        const buttonEl =\n",
              "          document.querySelector('#df-b47d5f81-c55a-4e7f-a837-742eb5e38942 button.colab-df-convert');\n",
              "        buttonEl.style.display =\n",
              "          google.colab.kernel.accessAllowed ? 'block' : 'none';\n",
              "\n",
              "        async function convertToInteractive(key) {\n",
              "          const element = document.querySelector('#df-b47d5f81-c55a-4e7f-a837-742eb5e38942');\n",
              "          const dataTable =\n",
              "            await google.colab.kernel.invokeFunction('convertToInteractive',\n",
              "                                                     [key], {});\n",
              "          if (!dataTable) return;\n",
              "\n",
              "          const docLinkHtml = 'Like what you see? Visit the ' +\n",
              "            '<a target=\"_blank\" href=https://colab.research.google.com/notebooks/data_table.ipynb>data table notebook</a>'\n",
              "            + ' to learn more about interactive tables.';\n",
              "          element.innerHTML = '';\n",
              "          dataTable['output_type'] = 'display_data';\n",
              "          await google.colab.output.renderOutput(dataTable, element);\n",
              "          const docLink = document.createElement('div');\n",
              "          docLink.innerHTML = docLinkHtml;\n",
              "          element.appendChild(docLink);\n",
              "        }\n",
              "      </script>\n",
              "    </div>\n",
              "  </div>\n",
              "  "
            ]
          },
          "metadata": {},
          "execution_count": 482
        }
      ],
      "source": [
        "labels"
      ]
    },
    {
      "cell_type": "markdown",
      "metadata": {
        "id": "3rJc47YniRVi"
      },
      "source": [
        "This shows that there are 31 distincts labels for the latest 500 issues."
      ]
    },
    {
      "cell_type": "markdown",
      "source": [
        "Here is the final dataset."
      ],
      "metadata": {
        "id": "E4XuV473pLhK"
      }
    },
    {
      "cell_type": "code",
      "source": [
        "df"
      ],
      "metadata": {
        "colab": {
          "base_uri": "https://localhost:8080/",
          "height": 423
        },
        "id": "GWG42h1CpOxf",
        "outputId": "2e001e76-ed64-4169-f33c-95a8f0cbd474"
      },
      "execution_count": 483,
      "outputs": [
        {
          "output_type": "execute_result",
          "data": {
            "text/plain": [
              "             id                                              title  \\\n",
              "0    1181447341  Multi level subdomain is not allowed after Rai...   \n",
              "1    1181332714     Remove override of ActiveModel#attribute_names   \n",
              "2    1180116072  Allow nested access for `secrets.yml` via meth...   \n",
              "3    1179461903  rich_text_area field with model validation err...   \n",
              "4    1179132566  `db:fixtures:load` raises in Postgres if there...   \n",
              "..          ...                                                ...   \n",
              "495   192343588  Including ActionView::Rendering in API control...   \n",
              "496   188229942                  ActionCable streaming performance   \n",
              "497   185765476  `deliver_later` raises unnecessarily due to ov...   \n",
              "498   181509062  When a parent model has `before/after_commit/r...   \n",
              "499   176220804  `rake test` on mountable engine `require` libr...   \n",
              "\n",
              "               user  comments  \\\n",
              "0          r7kamura         0   \n",
              "1          kevindew         0   \n",
              "2     ghousemohamed         0   \n",
              "3        scottdavis         0   \n",
              "4            lxxxvi         0   \n",
              "..              ...       ...   \n",
              "495  jpettettphaxio        15   \n",
              "496          palkan         7   \n",
              "497      derekprior         4   \n",
              "498        cannikin        10   \n",
              "499         asdacap         5   \n",
              "\n",
              "                                                labels  \\\n",
              "0                                                   []   \n",
              "1                          [activemodel, activerecord]   \n",
              "2                                           [railties]   \n",
              "3                                         [actiontext]   \n",
              "4                                       [activerecord]   \n",
              "..                                                 ...   \n",
              "495  [actionpack, needs feedback, actionview, With ...   \n",
              "496         [needs feedback, attached PR, actioncable]   \n",
              "497  [actionmailer, needs feedback, With reproducti...   \n",
              "498  [activerecord, needs feedback, With reproducti...   \n",
              "499                 [engines, With reproduction steps]   \n",
              "\n",
              "                   created_at                updated_at  \n",
              "0   2022-03-26 01:33:06+00:00 2022-03-26 01:33:34+00:00  \n",
              "1   2022-03-25 22:39:33+00:00 2022-03-26 10:50:30+00:00  \n",
              "2   2022-03-24 22:27:02+00:00 2022-03-25 14:52:53+00:00  \n",
              "3   2022-03-24 12:40:30+00:00 2022-03-25 20:34:51+00:00  \n",
              "4   2022-03-24 07:46:28+00:00 2022-03-24 07:46:31+00:00  \n",
              "..                        ...                       ...  \n",
              "495 2016-11-29 17:14:26+00:00 2020-08-03 23:42:22+00:00  \n",
              "496 2016-11-09 11:55:21+00:00 2018-10-08 17:41:02+00:00  \n",
              "497 2016-10-27 19:59:05+00:00 2021-06-21 19:33:07+00:00  \n",
              "498 2016-10-06 19:50:35+00:00 2020-05-19 02:01:28+00:00  \n",
              "499 2016-09-11 05:04:40+00:00 2018-10-21 20:48:35+00:00  \n",
              "\n",
              "[500 rows x 7 columns]"
            ],
            "text/html": [
              "\n",
              "  <div id=\"df-50e2ef18-7f70-4855-8c48-a8fe82324b20\">\n",
              "    <div class=\"colab-df-container\">\n",
              "      <div>\n",
              "<style scoped>\n",
              "    .dataframe tbody tr th:only-of-type {\n",
              "        vertical-align: middle;\n",
              "    }\n",
              "\n",
              "    .dataframe tbody tr th {\n",
              "        vertical-align: top;\n",
              "    }\n",
              "\n",
              "    .dataframe thead th {\n",
              "        text-align: right;\n",
              "    }\n",
              "</style>\n",
              "<table border=\"1\" class=\"dataframe\">\n",
              "  <thead>\n",
              "    <tr style=\"text-align: right;\">\n",
              "      <th></th>\n",
              "      <th>id</th>\n",
              "      <th>title</th>\n",
              "      <th>user</th>\n",
              "      <th>comments</th>\n",
              "      <th>labels</th>\n",
              "      <th>created_at</th>\n",
              "      <th>updated_at</th>\n",
              "    </tr>\n",
              "  </thead>\n",
              "  <tbody>\n",
              "    <tr>\n",
              "      <th>0</th>\n",
              "      <td>1181447341</td>\n",
              "      <td>Multi level subdomain is not allowed after Rai...</td>\n",
              "      <td>r7kamura</td>\n",
              "      <td>0</td>\n",
              "      <td>[]</td>\n",
              "      <td>2022-03-26 01:33:06+00:00</td>\n",
              "      <td>2022-03-26 01:33:34+00:00</td>\n",
              "    </tr>\n",
              "    <tr>\n",
              "      <th>1</th>\n",
              "      <td>1181332714</td>\n",
              "      <td>Remove override of ActiveModel#attribute_names</td>\n",
              "      <td>kevindew</td>\n",
              "      <td>0</td>\n",
              "      <td>[activemodel, activerecord]</td>\n",
              "      <td>2022-03-25 22:39:33+00:00</td>\n",
              "      <td>2022-03-26 10:50:30+00:00</td>\n",
              "    </tr>\n",
              "    <tr>\n",
              "      <th>2</th>\n",
              "      <td>1180116072</td>\n",
              "      <td>Allow nested access for `secrets.yml` via meth...</td>\n",
              "      <td>ghousemohamed</td>\n",
              "      <td>0</td>\n",
              "      <td>[railties]</td>\n",
              "      <td>2022-03-24 22:27:02+00:00</td>\n",
              "      <td>2022-03-25 14:52:53+00:00</td>\n",
              "    </tr>\n",
              "    <tr>\n",
              "      <th>3</th>\n",
              "      <td>1179461903</td>\n",
              "      <td>rich_text_area field with model validation err...</td>\n",
              "      <td>scottdavis</td>\n",
              "      <td>0</td>\n",
              "      <td>[actiontext]</td>\n",
              "      <td>2022-03-24 12:40:30+00:00</td>\n",
              "      <td>2022-03-25 20:34:51+00:00</td>\n",
              "    </tr>\n",
              "    <tr>\n",
              "      <th>4</th>\n",
              "      <td>1179132566</td>\n",
              "      <td>`db:fixtures:load` raises in Postgres if there...</td>\n",
              "      <td>lxxxvi</td>\n",
              "      <td>0</td>\n",
              "      <td>[activerecord]</td>\n",
              "      <td>2022-03-24 07:46:28+00:00</td>\n",
              "      <td>2022-03-24 07:46:31+00:00</td>\n",
              "    </tr>\n",
              "    <tr>\n",
              "      <th>...</th>\n",
              "      <td>...</td>\n",
              "      <td>...</td>\n",
              "      <td>...</td>\n",
              "      <td>...</td>\n",
              "      <td>...</td>\n",
              "      <td>...</td>\n",
              "      <td>...</td>\n",
              "    </tr>\n",
              "    <tr>\n",
              "      <th>495</th>\n",
              "      <td>192343588</td>\n",
              "      <td>Including ActionView::Rendering in API control...</td>\n",
              "      <td>jpettettphaxio</td>\n",
              "      <td>15</td>\n",
              "      <td>[actionpack, needs feedback, actionview, With ...</td>\n",
              "      <td>2016-11-29 17:14:26+00:00</td>\n",
              "      <td>2020-08-03 23:42:22+00:00</td>\n",
              "    </tr>\n",
              "    <tr>\n",
              "      <th>496</th>\n",
              "      <td>188229942</td>\n",
              "      <td>ActionCable streaming performance</td>\n",
              "      <td>palkan</td>\n",
              "      <td>7</td>\n",
              "      <td>[needs feedback, attached PR, actioncable]</td>\n",
              "      <td>2016-11-09 11:55:21+00:00</td>\n",
              "      <td>2018-10-08 17:41:02+00:00</td>\n",
              "    </tr>\n",
              "    <tr>\n",
              "      <th>497</th>\n",
              "      <td>185765476</td>\n",
              "      <td>`deliver_later` raises unnecessarily due to ov...</td>\n",
              "      <td>derekprior</td>\n",
              "      <td>4</td>\n",
              "      <td>[actionmailer, needs feedback, With reproducti...</td>\n",
              "      <td>2016-10-27 19:59:05+00:00</td>\n",
              "      <td>2021-06-21 19:33:07+00:00</td>\n",
              "    </tr>\n",
              "    <tr>\n",
              "      <th>498</th>\n",
              "      <td>181509062</td>\n",
              "      <td>When a parent model has `before/after_commit/r...</td>\n",
              "      <td>cannikin</td>\n",
              "      <td>10</td>\n",
              "      <td>[activerecord, needs feedback, With reproducti...</td>\n",
              "      <td>2016-10-06 19:50:35+00:00</td>\n",
              "      <td>2020-05-19 02:01:28+00:00</td>\n",
              "    </tr>\n",
              "    <tr>\n",
              "      <th>499</th>\n",
              "      <td>176220804</td>\n",
              "      <td>`rake test` on mountable engine `require` libr...</td>\n",
              "      <td>asdacap</td>\n",
              "      <td>5</td>\n",
              "      <td>[engines, With reproduction steps]</td>\n",
              "      <td>2016-09-11 05:04:40+00:00</td>\n",
              "      <td>2018-10-21 20:48:35+00:00</td>\n",
              "    </tr>\n",
              "  </tbody>\n",
              "</table>\n",
              "<p>500 rows × 7 columns</p>\n",
              "</div>\n",
              "      <button class=\"colab-df-convert\" onclick=\"convertToInteractive('df-50e2ef18-7f70-4855-8c48-a8fe82324b20')\"\n",
              "              title=\"Convert this dataframe to an interactive table.\"\n",
              "              style=\"display:none;\">\n",
              "        \n",
              "  <svg xmlns=\"http://www.w3.org/2000/svg\" height=\"24px\"viewBox=\"0 0 24 24\"\n",
              "       width=\"24px\">\n",
              "    <path d=\"M0 0h24v24H0V0z\" fill=\"none\"/>\n",
              "    <path d=\"M18.56 5.44l.94 2.06.94-2.06 2.06-.94-2.06-.94-.94-2.06-.94 2.06-2.06.94zm-11 1L8.5 8.5l.94-2.06 2.06-.94-2.06-.94L8.5 2.5l-.94 2.06-2.06.94zm10 10l.94 2.06.94-2.06 2.06-.94-2.06-.94-.94-2.06-.94 2.06-2.06.94z\"/><path d=\"M17.41 7.96l-1.37-1.37c-.4-.4-.92-.59-1.43-.59-.52 0-1.04.2-1.43.59L10.3 9.45l-7.72 7.72c-.78.78-.78 2.05 0 2.83L4 21.41c.39.39.9.59 1.41.59.51 0 1.02-.2 1.41-.59l7.78-7.78 2.81-2.81c.8-.78.8-2.07 0-2.86zM5.41 20L4 18.59l7.72-7.72 1.47 1.35L5.41 20z\"/>\n",
              "  </svg>\n",
              "      </button>\n",
              "      \n",
              "  <style>\n",
              "    .colab-df-container {\n",
              "      display:flex;\n",
              "      flex-wrap:wrap;\n",
              "      gap: 12px;\n",
              "    }\n",
              "\n",
              "    .colab-df-convert {\n",
              "      background-color: #E8F0FE;\n",
              "      border: none;\n",
              "      border-radius: 50%;\n",
              "      cursor: pointer;\n",
              "      display: none;\n",
              "      fill: #1967D2;\n",
              "      height: 32px;\n",
              "      padding: 0 0 0 0;\n",
              "      width: 32px;\n",
              "    }\n",
              "\n",
              "    .colab-df-convert:hover {\n",
              "      background-color: #E2EBFA;\n",
              "      box-shadow: 0px 1px 2px rgba(60, 64, 67, 0.3), 0px 1px 3px 1px rgba(60, 64, 67, 0.15);\n",
              "      fill: #174EA6;\n",
              "    }\n",
              "\n",
              "    [theme=dark] .colab-df-convert {\n",
              "      background-color: #3B4455;\n",
              "      fill: #D2E3FC;\n",
              "    }\n",
              "\n",
              "    [theme=dark] .colab-df-convert:hover {\n",
              "      background-color: #434B5C;\n",
              "      box-shadow: 0px 1px 3px 1px rgba(0, 0, 0, 0.15);\n",
              "      filter: drop-shadow(0px 1px 2px rgba(0, 0, 0, 0.3));\n",
              "      fill: #FFFFFF;\n",
              "    }\n",
              "  </style>\n",
              "\n",
              "      <script>\n",
              "        const buttonEl =\n",
              "          document.querySelector('#df-50e2ef18-7f70-4855-8c48-a8fe82324b20 button.colab-df-convert');\n",
              "        buttonEl.style.display =\n",
              "          google.colab.kernel.accessAllowed ? 'block' : 'none';\n",
              "\n",
              "        async function convertToInteractive(key) {\n",
              "          const element = document.querySelector('#df-50e2ef18-7f70-4855-8c48-a8fe82324b20');\n",
              "          const dataTable =\n",
              "            await google.colab.kernel.invokeFunction('convertToInteractive',\n",
              "                                                     [key], {});\n",
              "          if (!dataTable) return;\n",
              "\n",
              "          const docLinkHtml = 'Like what you see? Visit the ' +\n",
              "            '<a target=\"_blank\" href=https://colab.research.google.com/notebooks/data_table.ipynb>data table notebook</a>'\n",
              "            + ' to learn more about interactive tables.';\n",
              "          element.innerHTML = '';\n",
              "          dataTable['output_type'] = 'display_data';\n",
              "          await google.colab.output.renderOutput(dataTable, element);\n",
              "          const docLink = document.createElement('div');\n",
              "          docLink.innerHTML = docLinkHtml;\n",
              "          element.appendChild(docLink);\n",
              "        }\n",
              "      </script>\n",
              "    </div>\n",
              "  </div>\n",
              "  "
            ]
          },
          "metadata": {},
          "execution_count": 483
        }
      ]
    },
    {
      "cell_type": "markdown",
      "metadata": {
        "id": "qTi4YL9SiRVi"
      },
      "source": [
        "# Q1-2. Evolution of the number of issues "
      ]
    },
    {
      "cell_type": "code",
      "execution_count": 484,
      "metadata": {
        "id": "KI-jSSIWiRVj"
      },
      "outputs": [],
      "source": [
        "from datetime import datetime\n",
        "\n",
        "def plot_evolution(ts, per:str='D', title='', width=20, height=4, reindex:bool=False, reindex_freq:str='D'):\n",
        "    \"\"\"Plot the temporal evolution of the number of issues with daily,\n",
        "       monthly and yearly aggregation on demand.\n",
        "    \"\"\"\n",
        "    # Number of issues per period\n",
        "    s = ts['created_at'].groupby(ts['created_at'].values.astype(f'datetime64[{per}]')).size()\n",
        "    if reindex:\n",
        "        # create timeseries and fill empty values with 0\n",
        "        start = datetime(s.index.min().year, 1, 1)\n",
        "        end = datetime(s.index.max().year, 12, 31)\n",
        "        idx = pd.date_range(start, end, freq=reindex_freq)\n",
        "        s = s.reindex(idx, fill_value=0)\n",
        "    plt.figure(figsize=(width, height))\n",
        "    sns.lineplot(data=s, color='black').set(title=title)"
      ]
    },
    {
      "cell_type": "code",
      "execution_count": 485,
      "metadata": {
        "colab": {
          "base_uri": "https://localhost:8080/",
          "height": 281
        },
        "id": "l5w0WvjviRVk",
        "outputId": "eb360580-f591-4e04-98af-0c781fb6424c"
      },
      "outputs": [
        {
          "output_type": "display_data",
          "data": {
            "text/plain": [
              "<Figure size 1440x288 with 1 Axes>"
            ],
            "image/png": "[encoded data removed]"
          },
          "metadata": {
            "needs_background": "light"
          }
        }
      ],
      "source": [
        "# Number of issues per day\n",
        "plot_evolution(df, title='Evolution of the number of issues per day', reindex=False)"
      ]
    },
    {
      "cell_type": "code",
      "execution_count": 486,
      "metadata": {
        "colab": {
          "base_uri": "https://localhost:8080/",
          "height": 281
        },
        "id": "C5KaTOu5iRVl",
        "outputId": "69a00116-c97d-4a9a-95a7-6492da59878d"
      },
      "outputs": [
        {
          "output_type": "display_data",
          "data": {
            "text/plain": [
              "<Figure size 1440x288 with 1 Axes>"
            ],
            "image/png": "[encoded data removed]"
          },
          "metadata": {
            "needs_background": "light"
          }
        }
      ],
      "source": [
        "# Number of issues per day\n",
        "plot_evolution(df, title='Evolution of the number of issues per day (missing day filled at 0)', reindex=True)"
      ]
    },
    {
      "cell_type": "markdown",
      "metadata": {
        "id": "czNP8pWqiRVl"
      },
      "source": [
        "The number and the frequency of issues increased significantly since last year."
      ]
    },
    {
      "cell_type": "code",
      "execution_count": 487,
      "metadata": {
        "colab": {
          "base_uri": "https://localhost:8080/",
          "height": 281
        },
        "id": "D0EDbxyeiRVm",
        "outputId": "187cbd09-45f7-453e-efe3-5cd3655f00dd"
      },
      "outputs": [
        {
          "output_type": "display_data",
          "data": {
            "text/plain": [
              "<Figure size 1440x288 with 1 Axes>"
            ],
            "image/png": "[encoded data removed]"
          },
          "metadata": {
            "needs_background": "light"
          }
        }
      ],
      "source": [
        "# Number of issues aggregated per month of year\n",
        "plot_evolution(df, per='M', title='Evolution of the number of issues per month', reindex=False, reindex_freq='MS')"
      ]
    },
    {
      "cell_type": "code",
      "execution_count": 488,
      "metadata": {
        "colab": {
          "base_uri": "https://localhost:8080/",
          "height": 281
        },
        "id": "SzduFmLtiRVm",
        "outputId": "34320a50-bea3-48ac-be3c-cfedf096b845"
      },
      "outputs": [
        {
          "output_type": "display_data",
          "data": {
            "text/plain": [
              "<Figure size 1440x288 with 1 Axes>"
            ],
            "image/png": "[encoded data removed]"
          },
          "metadata": {
            "needs_background": "light"
          }
        }
      ],
      "source": [
        "# Number of issues per year\n",
        "plot_evolution(df, per='Y', title='Evolution of the number of issues per year')"
      ]
    },
    {
      "cell_type": "markdown",
      "metadata": {
        "id": "tBw5G0KJiRVn"
      },
      "source": [
        "As we can see, Here are the total numbers of issues per year."
      ]
    },
    {
      "cell_type": "code",
      "execution_count": 489,
      "metadata": {
        "colab": {
          "base_uri": "https://localhost:8080/"
        },
        "id": "53ODIlQTiRVn",
        "outputId": "53313895-d4b8-4be7-e57b-ca141ddfaa98"
      },
      "outputs": [
        {
          "output_type": "execute_result",
          "data": {
            "text/plain": [
              "2016     10\n",
              "2017     23\n",
              "2018     28\n",
              "2019     29\n",
              "2020     44\n",
              "2021    200\n",
              "2022    166\n",
              "Name: Number of issues per year, dtype: int64"
            ]
          },
          "metadata": {},
          "execution_count": 489
        }
      ],
      "source": [
        "s = df['created_at'].groupby(df['created_at'].values.astype(f'datetime64[Y]')).size()\n",
        "s.index = pd.DatetimeIndex(s.index).year\n",
        "s.rename('Number of issues per year', inplace=True)\n",
        "s"
      ]
    },
    {
      "cell_type": "markdown",
      "metadata": {
        "id": "XXVvCFwciRVo"
      },
      "source": [
        "As can be seen, the number of issues increases from year to year with a significant spike in 2021. This trend is promised for 2022 with the level of the number almost equaling the total of the previous year only after the first quarter."
      ]
    },
    {
      "cell_type": "markdown",
      "metadata": {
        "id": "dvT1iJ9qiRVo"
      },
      "source": [
        "Let us now take at the evolution of the number of issues over each year to look for particular periods of spikes."
      ]
    },
    {
      "cell_type": "code",
      "execution_count": 490,
      "metadata": {
        "colab": {
          "base_uri": "https://localhost:8080/"
        },
        "id": "u_TeGhawiRVo",
        "outputId": "788451b9-6db0-4293-d0c5-98b256e867f8"
      },
      "outputs": [
        {
          "output_type": "execute_result",
          "data": {
            "text/plain": [
              "array([2022, 2021, 2020, 2019, 2018, 2017, 2016])"
            ]
          },
          "metadata": {},
          "execution_count": 490
        }
      ],
      "source": [
        "# get and sort all years\n",
        "df['creation_year'] = pd.DatetimeIndex(df['created_at']).year\n",
        "years = np.unique(df['creation_year'])\n",
        "years = np.sort(years)[::-1]\n",
        "years"
      ]
    },
    {
      "cell_type": "code",
      "execution_count": 491,
      "metadata": {
        "colab": {
          "base_uri": "https://localhost:8080/",
          "height": 1000
        },
        "id": "XWQG0Ai3iRVp",
        "outputId": "503378e0-66d5-4a6a-9671-8bb1962e87a8"
      },
      "outputs": [
        {
          "output_type": "display_data",
          "data": {
            "text/plain": [
              "<Figure size 1800x288 with 1 Axes>"
            ],
            "image/png": "[encoded data removed]"
          },
          "metadata": {
            "needs_background": "light"
          }
        },
        {
          "output_type": "display_data",
          "data": {
            "text/plain": [
              "<Figure size 1800x288 with 1 Axes>"
            ],
            "image/png": "[encoded data removed]"
          },
          "metadata": {
            "needs_background": "light"
          }
        },
        {
          "output_type": "display_data",
          "data": {
            "text/plain": [
              "<Figure size 1800x288 with 1 Axes>"
            ],
            "image/png": "[encoded data removed]"
          },
          "metadata": {
            "needs_background": "light"
          }
        },
        {
          "output_type": "display_data",
          "data": {
            "text/plain": [
              "<Figure size 1800x288 with 1 Axes>"
            ],
            "image/png": "[encoded data removed]"
          },
          "metadata": {
            "needs_background": "light"
          }
        },
        {
          "output_type": "display_data",
          "data": {
            "text/plain": [
              "<Figure size 1800x288 with 1 Axes>"
            ],
            "image/png": "[encoded data removed]"
          },
          "metadata": {
            "needs_background": "light"
          }
        }
      ],
      "source": [
        "# plot issues evolution for each year\n",
        "# add missing months and fill them with 0\n",
        "for year in years[1:-1]:\n",
        "    ts = df[df['creation_year'] == year]\n",
        "    plot_evolution(ts, per='M', title=f'Evolution of the number of issues in {year} per month', width=25, height=4, reindex=True, reindex_freq='MS')"
      ]
    },
    {
      "cell_type": "markdown",
      "metadata": {
        "id": "aCRcsxPliRVp"
      },
      "source": [
        "We can see a trend that in the first half of the year, we get more issues (module 2016 where we do not have first half period data).\n",
        "Let us confirm that with some additional plot comparing the two periods."
      ]
    },
    {
      "cell_type": "code",
      "execution_count": 492,
      "metadata": {
        "colab": {
          "base_uri": "https://localhost:8080/",
          "height": 621
        },
        "id": "fJenLSowiRVq",
        "outputId": "2c4a6de9-8838-467d-8e33-f594ce8e90ab"
      },
      "outputs": [
        {
          "output_type": "display_data",
          "data": {
            "text/plain": [
              "<Figure size 1080x720 with 6 Axes>"
            ],
            "image/png": "[encoded data removed]"
          },
          "metadata": {
            "needs_background": "light"
          }
        }
      ],
      "source": [
        "fig, axes = plt.subplots(2, 3, figsize=(15, 10), sharey=True)\n",
        "\n",
        "for i, year in enumerate(years[1:-1]):\n",
        "    ts = df[df['creation_year'] == year].copy()\n",
        "    ts['second half'] = ts['created_at'] >= pd.to_datetime(datetime(year, 7, 1), utc=True)\n",
        "    sns.countplot(ax=axes[int((i)/3), i%3], x='second half', palette='Greys_r', data=ts).set(title=f'Count on each half of {year}')"
      ]
    },
    {
      "cell_type": "markdown",
      "metadata": {
        "id": "T955cXwLiRVq"
      },
      "source": [
        "Over 5 comparable years (where we have both halves of the year data), we have 3 in which the number of issues is more important in the first half of year. Further study is needed to understand the reason behind that."
      ]
    },
    {
      "cell_type": "markdown",
      "metadata": {
        "id": "jySHUbTYiRVr"
      },
      "source": [
        "# Q3. Top issues reporters"
      ]
    },
    {
      "cell_type": "markdown",
      "metadata": {
        "id": "Jn0PTs9kiRVr"
      },
      "source": [
        "How many issue reporters do we have ?"
      ]
    },
    {
      "cell_type": "code",
      "execution_count": 493,
      "metadata": {
        "colab": {
          "base_uri": "https://localhost:8080/"
        },
        "id": "65N7IXuviRVr",
        "outputId": "afff2d3b-9469-49ad-dabb-82f6aca6a020"
      },
      "outputs": [
        {
          "output_type": "stream",
          "name": "stdout",
          "text": [
            "365 reporters\n"
          ]
        }
      ],
      "source": [
        "nb = len(df['user'].unique())\n",
        "print(f'{nb} reporters')"
      ]
    },
    {
      "cell_type": "code",
      "execution_count": 494,
      "metadata": {
        "colab": {
          "base_uri": "https://localhost:8080/"
        },
        "id": "b9nSXAiZiRVs",
        "outputId": "42fcc450-1c1a-4a74-fc74-1ecdb03c1492"
      },
      "outputs": [
        {
          "output_type": "execute_result",
          "data": {
            "text/plain": [
              "user\n",
              "jonathanhefner    20\n",
              "intrip            12\n",
              "kamipo            11\n",
              "ghiculescu        10\n",
              "ghousemohamed      8\n",
              "Name: count, dtype: int64"
            ]
          },
          "metadata": {},
          "execution_count": 494
        }
      ],
      "source": [
        "reporters_count = df.groupby(by='user')['id'].agg(['count'])['count'].copy()\n",
        "reporters_count.sort_values(ascending=False, inplace=True)\n",
        "reporters_count.head()"
      ]
    },
    {
      "cell_type": "code",
      "execution_count": 495,
      "metadata": {
        "colab": {
          "base_uri": "https://localhost:8080/"
        },
        "id": "dk57hlv5iRVs",
        "outputId": "4a8eae4f-07e3-4aef-f669-7dba099d7799"
      },
      "outputs": [
        {
          "output_type": "execute_result",
          "data": {
            "text/plain": [
              "1     306\n",
              "2      34\n",
              "3      16\n",
              "4       3\n",
              "20      1\n",
              "12      1\n",
              "11      1\n",
              "10      1\n",
              "8       1\n",
              "5       1\n",
              "Name: count, dtype: int64"
            ]
          },
          "metadata": {},
          "execution_count": 495
        }
      ],
      "source": [
        "reporters_count.value_counts()"
      ]
    },
    {
      "cell_type": "markdown",
      "metadata": {
        "id": "34SB1NyuiRVs"
      },
      "source": [
        "Generally users report only one issue"
      ]
    },
    {
      "cell_type": "code",
      "source": [
        "print('They represent {0:.0%} of the reporters'.format(reporters_count.value_counts().max()/reporters_count.shape[0]))"
      ],
      "metadata": {
        "colab": {
          "base_uri": "https://localhost:8080/"
        },
        "id": "oDh0_2WgGUHw",
        "outputId": "9f4d9447-da92-43f0-c7e6-9a0d423ce682"
      },
      "execution_count": 496,
      "outputs": [
        {
          "output_type": "stream",
          "name": "stdout",
          "text": [
            "They represent 84% of the reporters\n"
          ]
        }
      ]
    },
    {
      "cell_type": "code",
      "execution_count": 497,
      "metadata": {
        "colab": {
          "base_uri": "https://localhost:8080/"
        },
        "id": "8K9hSfcLiRVt",
        "outputId": "1235ece6-f145-4132-a1a9-42ad5d3204fd"
      },
      "outputs": [
        {
          "output_type": "execute_result",
          "data": {
            "text/plain": [
              "count    365.000000\n",
              "mean       1.369863\n",
              "std        1.485339\n",
              "min        1.000000\n",
              "25%        1.000000\n",
              "50%        1.000000\n",
              "75%        1.000000\n",
              "max       20.000000\n",
              "Name: count, dtype: float64"
            ]
          },
          "metadata": {},
          "execution_count": 497
        }
      ],
      "source": [
        "reporters_count.describe()"
      ]
    },
    {
      "cell_type": "markdown",
      "metadata": {
        "id": "ZJbjwtgEiRVt"
      },
      "source": [
        "we have an average of 1.36 reports/user"
      ]
    },
    {
      "cell_type": "markdown",
      "metadata": {
        "id": "ig4CAY6HiRVt"
      },
      "source": [
        "And the one who reported the most issues is:"
      ]
    },
    {
      "cell_type": "code",
      "execution_count": 498,
      "metadata": {
        "colab": {
          "base_uri": "https://localhost:8080/"
        },
        "id": "RgIzHShmiRVt",
        "outputId": "75e3ab4c-a581-4d8c-c981-44d045d24fc2"
      },
      "outputs": [
        {
          "output_type": "execute_result",
          "data": {
            "text/plain": [
              "user\n",
              "jonathanhefner    20\n",
              "Name: count, dtype: int64"
            ]
          },
          "metadata": {},
          "execution_count": 498
        }
      ],
      "source": [
        "reporters_count.head(1)"
      ]
    },
    {
      "cell_type": "markdown",
      "metadata": {
        "id": "LmwcnJpDiRVu"
      },
      "source": [
        "The podium of reporters considering number of issues created"
      ]
    },
    {
      "cell_type": "code",
      "execution_count": 499,
      "metadata": {
        "colab": {
          "base_uri": "https://localhost:8080/",
          "height": 461
        },
        "id": "9Y_RTDXsiRVu",
        "outputId": "2c0edf4a-5519-41a4-9d4b-09c0f7000fea"
      },
      "outputs": [
        {
          "output_type": "execute_result",
          "data": {
            "text/plain": [
              "<matplotlib.axes._subplots.AxesSubplot at 0x7f5409d83f90>"
            ]
          },
          "metadata": {},
          "execution_count": 499
        },
        {
          "output_type": "display_data",
          "data": {
            "text/plain": [
              "<Figure size 504x504 with 1 Axes>"
            ],
            "image/png": "[encoded data removed]"
          },
          "metadata": {
            "needs_background": "light"
          }
        }
      ],
      "source": [
        "top_reporters = reporters_count.head(3)\n",
        "\n",
        "plt.figure(figsize=(7, 7))\n",
        "sns.barplot(x=top_reporters.index, y=top_reporters.values, palette='Greys_r')"
      ]
    },
    {
      "cell_type": "markdown",
      "metadata": {
        "id": "AC5mQiVgiRVu"
      },
      "source": [
        "# Q4. The most popular label"
      ]
    },
    {
      "cell_type": "code",
      "execution_count": 500,
      "metadata": {
        "colab": {
          "base_uri": "https://localhost:8080/",
          "height": 334
        },
        "id": "A1GTEcPniRVu",
        "outputId": "33649bf0-7893-46e2-91c8-ec11da3abb89"
      },
      "outputs": [
        {
          "output_type": "execute_result",
          "data": {
            "text/plain": [
              "   PostgreSQL  With reproduction steps  actioncable  actionmailbox  \\\n",
              "0           0                        0            0              0   \n",
              "1           0                        0            0              0   \n",
              "2           0                        0            0              0   \n",
              "3           0                        0            0              0   \n",
              "4           0                        0            0              0   \n",
              "\n",
              "   actionmailer  actionpack  actiontext  actionview  activejob  activemodel  \\\n",
              "0             0           0           0           0          0            0   \n",
              "1             0           0           0           0          0            1   \n",
              "2             0           0           0           0          0            0   \n",
              "3             0           0           1           0          0            0   \n",
              "4             0           0           0           0          0            0   \n",
              "\n",
              "   ...  parallel testing  pinned  rails-ujs  railties  ready  regression  \\\n",
              "0  ...                 0       0          0         0      0           0   \n",
              "1  ...                 0       0          0         0      0           0   \n",
              "2  ...                 0       0          0         1      0           0   \n",
              "3  ...                 0       0          0         0      0           0   \n",
              "4  ...                 0       0          0         0      0           0   \n",
              "\n",
              "   routing  security  stale  third party issue  \n",
              "0        0         0      0                  0  \n",
              "1        0         0      0                  0  \n",
              "2        0         0      0                  0  \n",
              "3        0         0      0                  0  \n",
              "4        0         0      0                  0  \n",
              "\n",
              "[5 rows x 31 columns]"
            ],
            "text/html": [
              "\n",
              "  <div id=\"df-e0383c0a-5b65-4153-a41f-47e320341a0e\">\n",
              "    <div class=\"colab-df-container\">\n",
              "      <div>\n",
              "<style scoped>\n",
              "    .dataframe tbody tr th:only-of-type {\n",
              "        vertical-align: middle;\n",
              "    }\n",
              "\n",
              "    .dataframe tbody tr th {\n",
              "        vertical-align: top;\n",
              "    }\n",
              "\n",
              "    .dataframe thead th {\n",
              "        text-align: right;\n",
              "    }\n",
              "</style>\n",
              "<table border=\"1\" class=\"dataframe\">\n",
              "  <thead>\n",
              "    <tr style=\"text-align: right;\">\n",
              "      <th></th>\n",
              "      <th>PostgreSQL</th>\n",
              "      <th>With reproduction steps</th>\n",
              "      <th>actioncable</th>\n",
              "      <th>actionmailbox</th>\n",
              "      <th>actionmailer</th>\n",
              "      <th>actionpack</th>\n",
              "      <th>actiontext</th>\n",
              "      <th>actionview</th>\n",
              "      <th>activejob</th>\n",
              "      <th>activemodel</th>\n",
              "      <th>...</th>\n",
              "      <th>parallel testing</th>\n",
              "      <th>pinned</th>\n",
              "      <th>rails-ujs</th>\n",
              "      <th>railties</th>\n",
              "      <th>ready</th>\n",
              "      <th>regression</th>\n",
              "      <th>routing</th>\n",
              "      <th>security</th>\n",
              "      <th>stale</th>\n",
              "      <th>third party issue</th>\n",
              "    </tr>\n",
              "  </thead>\n",
              "  <tbody>\n",
              "    <tr>\n",
              "      <th>0</th>\n",
              "      <td>0</td>\n",
              "      <td>0</td>\n",
              "      <td>0</td>\n",
              "      <td>0</td>\n",
              "      <td>0</td>\n",
              "      <td>0</td>\n",
              "      <td>0</td>\n",
              "      <td>0</td>\n",
              "      <td>0</td>\n",
              "      <td>0</td>\n",
              "      <td>...</td>\n",
              "      <td>0</td>\n",
              "      <td>0</td>\n",
              "      <td>0</td>\n",
              "      <td>0</td>\n",
              "      <td>0</td>\n",
              "      <td>0</td>\n",
              "      <td>0</td>\n",
              "      <td>0</td>\n",
              "      <td>0</td>\n",
              "      <td>0</td>\n",
              "    </tr>\n",
              "    <tr>\n",
              "      <th>1</th>\n",
              "      <td>0</td>\n",
              "      <td>0</td>\n",
              "      <td>0</td>\n",
              "      <td>0</td>\n",
              "      <td>0</td>\n",
              "      <td>0</td>\n",
              "      <td>0</td>\n",
              "      <td>0</td>\n",
              "      <td>0</td>\n",
              "      <td>1</td>\n",
              "      <td>...</td>\n",
              "      <td>0</td>\n",
              "      <td>0</td>\n",
              "      <td>0</td>\n",
              "      <td>0</td>\n",
              "      <td>0</td>\n",
              "      <td>0</td>\n",
              "      <td>0</td>\n",
              "      <td>0</td>\n",
              "      <td>0</td>\n",
              "      <td>0</td>\n",
              "    </tr>\n",
              "    <tr>\n",
              "      <th>2</th>\n",
              "      <td>0</td>\n",
              "      <td>0</td>\n",
              "      <td>0</td>\n",
              "      <td>0</td>\n",
              "      <td>0</td>\n",
              "      <td>0</td>\n",
              "      <td>0</td>\n",
              "      <td>0</td>\n",
              "      <td>0</td>\n",
              "      <td>0</td>\n",
              "      <td>...</td>\n",
              "      <td>0</td>\n",
              "      <td>0</td>\n",
              "      <td>0</td>\n",
              "      <td>1</td>\n",
              "      <td>0</td>\n",
              "      <td>0</td>\n",
              "      <td>0</td>\n",
              "      <td>0</td>\n",
              "      <td>0</td>\n",
              "      <td>0</td>\n",
              "    </tr>\n",
              "    <tr>\n",
              "      <th>3</th>\n",
              "      <td>0</td>\n",
              "      <td>0</td>\n",
              "      <td>0</td>\n",
              "      <td>0</td>\n",
              "      <td>0</td>\n",
              "      <td>0</td>\n",
              "      <td>1</td>\n",
              "      <td>0</td>\n",
              "      <td>0</td>\n",
              "      <td>0</td>\n",
              "      <td>...</td>\n",
              "      <td>0</td>\n",
              "      <td>0</td>\n",
              "      <td>0</td>\n",
              "      <td>0</td>\n",
              "      <td>0</td>\n",
              "      <td>0</td>\n",
              "      <td>0</td>\n",
              "      <td>0</td>\n",
              "      <td>0</td>\n",
              "      <td>0</td>\n",
              "    </tr>\n",
              "    <tr>\n",
              "      <th>4</th>\n",
              "      <td>0</td>\n",
              "      <td>0</td>\n",
              "      <td>0</td>\n",
              "      <td>0</td>\n",
              "      <td>0</td>\n",
              "      <td>0</td>\n",
              "      <td>0</td>\n",
              "      <td>0</td>\n",
              "      <td>0</td>\n",
              "      <td>0</td>\n",
              "      <td>...</td>\n",
              "      <td>0</td>\n",
              "      <td>0</td>\n",
              "      <td>0</td>\n",
              "      <td>0</td>\n",
              "      <td>0</td>\n",
              "      <td>0</td>\n",
              "      <td>0</td>\n",
              "      <td>0</td>\n",
              "      <td>0</td>\n",
              "      <td>0</td>\n",
              "    </tr>\n",
              "  </tbody>\n",
              "</table>\n",
              "<p>5 rows × 31 columns</p>\n",
              "</div>\n",
              "      <button class=\"colab-df-convert\" onclick=\"convertToInteractive('df-e0383c0a-5b65-4153-a41f-47e320341a0e')\"\n",
              "              title=\"Convert this dataframe to an interactive table.\"\n",
              "              style=\"display:none;\">\n",
              "        \n",
              "  <svg xmlns=\"http://www.w3.org/2000/svg\" height=\"24px\"viewBox=\"0 0 24 24\"\n",
              "       width=\"24px\">\n",
              "    <path d=\"M0 0h24v24H0V0z\" fill=\"none\"/>\n",
              "    <path d=\"M18.56 5.44l.94 2.06.94-2.06 2.06-.94-2.06-.94-.94-2.06-.94 2.06-2.06.94zm-11 1L8.5 8.5l.94-2.06 2.06-.94-2.06-.94L8.5 2.5l-.94 2.06-2.06.94zm10 10l.94 2.06.94-2.06 2.06-.94-2.06-.94-.94-2.06-.94 2.06-2.06.94z\"/><path d=\"M17.41 7.96l-1.37-1.37c-.4-.4-.92-.59-1.43-.59-.52 0-1.04.2-1.43.59L10.3 9.45l-7.72 7.72c-.78.78-.78 2.05 0 2.83L4 21.41c.39.39.9.59 1.41.59.51 0 1.02-.2 1.41-.59l7.78-7.78 2.81-2.81c.8-.78.8-2.07 0-2.86zM5.41 20L4 18.59l7.72-7.72 1.47 1.35L5.41 20z\"/>\n",
              "  </svg>\n",
              "      </button>\n",
              "      \n",
              "  <style>\n",
              "    .colab-df-container {\n",
              "      display:flex;\n",
              "      flex-wrap:wrap;\n",
              "      gap: 12px;\n",
              "    }\n",
              "\n",
              "    .colab-df-convert {\n",
              "      background-color: #E8F0FE;\n",
              "      border: none;\n",
              "      border-radius: 50%;\n",
              "      cursor: pointer;\n",
              "      display: none;\n",
              "      fill: #1967D2;\n",
              "      height: 32px;\n",
              "      padding: 0 0 0 0;\n",
              "      width: 32px;\n",
              "    }\n",
              "\n",
              "    .colab-df-convert:hover {\n",
              "      background-color: #E2EBFA;\n",
              "      box-shadow: 0px 1px 2px rgba(60, 64, 67, 0.3), 0px 1px 3px 1px rgba(60, 64, 67, 0.15);\n",
              "      fill: #174EA6;\n",
              "    }\n",
              "\n",
              "    [theme=dark] .colab-df-convert {\n",
              "      background-color: #3B4455;\n",
              "      fill: #D2E3FC;\n",
              "    }\n",
              "\n",
              "    [theme=dark] .colab-df-convert:hover {\n",
              "      background-color: #434B5C;\n",
              "      box-shadow: 0px 1px 3px 1px rgba(0, 0, 0, 0.15);\n",
              "      filter: drop-shadow(0px 1px 2px rgba(0, 0, 0, 0.3));\n",
              "      fill: #FFFFFF;\n",
              "    }\n",
              "  </style>\n",
              "\n",
              "      <script>\n",
              "        const buttonEl =\n",
              "          document.querySelector('#df-e0383c0a-5b65-4153-a41f-47e320341a0e button.colab-df-convert');\n",
              "        buttonEl.style.display =\n",
              "          google.colab.kernel.accessAllowed ? 'block' : 'none';\n",
              "\n",
              "        async function convertToInteractive(key) {\n",
              "          const element = document.querySelector('#df-e0383c0a-5b65-4153-a41f-47e320341a0e');\n",
              "          const dataTable =\n",
              "            await google.colab.kernel.invokeFunction('convertToInteractive',\n",
              "                                                     [key], {});\n",
              "          if (!dataTable) return;\n",
              "\n",
              "          const docLinkHtml = 'Like what you see? Visit the ' +\n",
              "            '<a target=\"_blank\" href=https://colab.research.google.com/notebooks/data_table.ipynb>data table notebook</a>'\n",
              "            + ' to learn more about interactive tables.';\n",
              "          element.innerHTML = '';\n",
              "          dataTable['output_type'] = 'display_data';\n",
              "          await google.colab.output.renderOutput(dataTable, element);\n",
              "          const docLink = document.createElement('div');\n",
              "          docLink.innerHTML = docLinkHtml;\n",
              "          element.appendChild(docLink);\n",
              "        }\n",
              "      </script>\n",
              "    </div>\n",
              "  </div>\n",
              "  "
            ]
          },
          "metadata": {},
          "execution_count": 500
        }
      ],
      "source": [
        "labels.head()"
      ]
    },
    {
      "cell_type": "code",
      "execution_count": 501,
      "metadata": {
        "colab": {
          "base_uri": "https://localhost:8080/"
        },
        "id": "GtAfpoRUiRVv",
        "outputId": "79eb8679-4141-4788-a476-bfdba54932c4"
      },
      "outputs": [
        {
          "output_type": "execute_result",
          "data": {
            "text/plain": [
              "31"
            ]
          },
          "metadata": {},
          "execution_count": 501
        }
      ],
      "source": [
        "len(np.unique(labels.columns))"
      ]
    },
    {
      "cell_type": "markdown",
      "metadata": {
        "id": "HQd9F4p9iRVv"
      },
      "source": [
        "There are 31 distincts labels found"
      ]
    },
    {
      "cell_type": "code",
      "execution_count": 502,
      "metadata": {
        "colab": {
          "base_uri": "https://localhost:8080/"
        },
        "id": "VX8iUze8iRVv",
        "outputId": "96617c2e-2b72-4792-d377-78cd5ed4d259"
      },
      "outputs": [
        {
          "output_type": "execute_result",
          "data": {
            "text/plain": [
              "activerecord               219\n",
              "attached PR                 83\n",
              "With reproduction steps     52\n",
              "actionpack                  48\n",
              "pinned                      45\n",
              "activesupport               41\n",
              "activestorage               41\n",
              "docs                        40\n",
              "railties                    40\n",
              "actionview                  31\n",
              "dtype: int64"
            ]
          },
          "metadata": {},
          "execution_count": 502
        }
      ],
      "source": [
        "labels_count = labels.sum().transpose()\n",
        "labels_count.sort_values(ascending=False, inplace=True)\n",
        "labels_count.head(10)"
      ]
    },
    {
      "cell_type": "code",
      "source": [
        "labels_count.describe()"
      ],
      "metadata": {
        "colab": {
          "base_uri": "https://localhost:8080/"
        },
        "id": "0mz7PKkkOJm8",
        "outputId": "fe4fe9a6-95b3-47fa-a88b-05572ef0f4ad"
      },
      "execution_count": 503,
      "outputs": [
        {
          "output_type": "execute_result",
          "data": {
            "text/plain": [
              "count     31.000000\n",
              "mean      26.000000\n",
              "std       41.137979\n",
              "min        1.000000\n",
              "25%        3.000000\n",
              "50%       12.000000\n",
              "75%       40.000000\n",
              "max      219.000000\n",
              "dtype: float64"
            ]
          },
          "metadata": {},
          "execution_count": 503
        }
      ]
    },
    {
      "cell_type": "code",
      "execution_count": 504,
      "metadata": {
        "colab": {
          "base_uri": "https://localhost:8080/",
          "height": 601
        },
        "id": "dpk-gGa4iRVw",
        "outputId": "3ba0f1c1-8a2a-43a6-d3d0-f816176e8220"
      },
      "outputs": [
        {
          "output_type": "display_data",
          "data": {
            "text/plain": [
              "<Figure size 1080x576 with 1 Axes>"
            ],
            "image/png": "[encoded data removed]"
          },
          "metadata": {
            "needs_background": "light"
          }
        }
      ],
      "source": [
        "plt.figure(figsize=(15, 8))\n",
        "ax = sns.barplot(x=labels_count.index, y=labels_count.values, palette='Greys_r')\n",
        "ax.tick_params(axis='x', rotation=90)"
      ]
    },
    {
      "cell_type": "code",
      "execution_count": 505,
      "metadata": {
        "colab": {
          "base_uri": "https://localhost:8080/"
        },
        "id": "DYl-mxqhiRVw",
        "outputId": "15144449-caaa-417a-b681-7ed6ff19a469"
      },
      "outputs": [
        {
          "output_type": "execute_result",
          "data": {
            "text/plain": [
              "third party issue    1\n",
              "dtype: int64"
            ]
          },
          "metadata": {},
          "execution_count": 505
        }
      ],
      "source": [
        "labels_count.tail(1)"
      ]
    },
    {
      "cell_type": "markdown",
      "metadata": {
        "id": "sN2WalJWiRVw"
      },
      "source": [
        "The most popular label"
      ]
    },
    {
      "cell_type": "code",
      "execution_count": 506,
      "metadata": {
        "colab": {
          "base_uri": "https://localhost:8080/"
        },
        "id": "wkIwDHvMiRVx",
        "outputId": "ca7867b1-dfc7-4a9e-8d9d-1f85a1194ce3"
      },
      "outputs": [
        {
          "output_type": "execute_result",
          "data": {
            "text/plain": [
              "activerecord    219\n",
              "dtype: int64"
            ]
          },
          "metadata": {},
          "execution_count": 506
        }
      ],
      "source": [
        "labels_count.head(1)"
      ]
    },
    {
      "cell_type": "code",
      "source": [
        "print('It represents {0:.0%} of the issues'.format(labels_count.max()/df.shape[0]))"
      ],
      "metadata": {
        "colab": {
          "base_uri": "https://localhost:8080/"
        },
        "id": "ofYgPJJChMNK",
        "outputId": "81588c34-fb18-4006-b1aa-3e5455cca4b8"
      },
      "execution_count": 507,
      "outputs": [
        {
          "output_type": "stream",
          "name": "stdout",
          "text": [
            "It represents 44% of the issues\n"
          ]
        }
      ]
    },
    {
      "cell_type": "markdown",
      "metadata": {
        "id": "8AFRqr8riRVx"
      },
      "source": [
        "The top 5 most popular labels"
      ]
    },
    {
      "cell_type": "code",
      "execution_count": 508,
      "metadata": {
        "colab": {
          "base_uri": "https://localhost:8080/",
          "height": 447
        },
        "id": "ewqP6Xs6iRVx",
        "outputId": "38534cb3-bf10-431c-d073-64af08a52548"
      },
      "outputs": [
        {
          "output_type": "execute_result",
          "data": {
            "text/plain": [
              "<matplotlib.axes._subplots.AxesSubplot at 0x7f54090a9450>"
            ]
          },
          "metadata": {},
          "execution_count": 508
        },
        {
          "output_type": "display_data",
          "data": {
            "text/plain": [
              "<Figure size 720x504 with 1 Axes>"
            ],
            "image/png": "[encoded data removed]"
          },
          "metadata": {
            "needs_background": "light"
          }
        }
      ],
      "source": [
        "top_labels = labels_count.head(5)\n",
        "\n",
        "plt.figure(figsize=(10, 7))\n",
        "sns.barplot(x=top_labels.index, y=top_labels.values, palette='Greys_r')"
      ]
    },
    {
      "cell_type": "markdown",
      "metadata": {
        "id": "P4SlpdtqiRVx"
      },
      "source": [
        "# Q5. The most commented issues"
      ]
    },
    {
      "cell_type": "code",
      "execution_count": 509,
      "metadata": {
        "id": "XynVVo95iRVy"
      },
      "outputs": [],
      "source": [
        "comments_count = df.copy(deep=True)\n",
        "comments_count.sort_values(by='comments', ascending=False, inplace=True)"
      ]
    },
    {
      "cell_type": "code",
      "source": [
        "comments_count.describe()['comments']"
      ],
      "metadata": {
        "colab": {
          "base_uri": "https://localhost:8080/"
        },
        "id": "TF0fOfvGZ0lH",
        "outputId": "77cc8ba8-a027-46ae-86c9-a1844a7cfda9"
      },
      "execution_count": 510,
      "outputs": [
        {
          "output_type": "execute_result",
          "data": {
            "text/plain": [
              "count    500.000000\n",
              "mean       5.690000\n",
              "std        7.035118\n",
              "min        0.000000\n",
              "25%        1.000000\n",
              "50%        4.000000\n",
              "75%        8.000000\n",
              "max       69.000000\n",
              "Name: comments, dtype: float64"
            ]
          },
          "metadata": {},
          "execution_count": 510
        }
      ]
    },
    {
      "cell_type": "markdown",
      "source": [
        "Distribution of number of comments"
      ],
      "metadata": {
        "id": "F4sS87YbX5tm"
      }
    },
    {
      "cell_type": "code",
      "execution_count": 511,
      "metadata": {
        "colab": {
          "base_uri": "https://localhost:8080/"
        },
        "id": "xHb8S6M3iRVy",
        "outputId": "dcffecd3-f94e-4514-a3a9-f37c797b9f15"
      },
      "outputs": [
        {
          "output_type": "execute_result",
          "data": {
            "text/plain": [
              "0     89\n",
              "2     57\n",
              "4     55\n",
              "1     51\n",
              "3     40\n",
              "6     28\n",
              "9     25\n",
              "7     24\n",
              "5     24\n",
              "8     16\n",
              "10    15\n",
              "12    13\n",
              "11    10\n",
              "13     8\n",
              "14     7\n",
              "15     5\n",
              "22     5\n",
              "16     3\n",
              "19     3\n",
              "20     3\n",
              "28     3\n",
              "17     2\n",
              "18     2\n",
              "21     2\n",
              "31     2\n",
              "48     1\n",
              "23     1\n",
              "24     1\n",
              "27     1\n",
              "35     1\n",
              "38     1\n",
              "41     1\n",
              "69     1\n",
              "Name: comments, dtype: int64"
            ]
          },
          "metadata": {},
          "execution_count": 511
        }
      ],
      "source": [
        "comments_count['comments'].value_counts()"
      ]
    },
    {
      "cell_type": "code",
      "source": [
        "plt.figure(figsize=(10, 7))\n",
        "ax = sns.countplot(x='comments', palette='Greys_r', data=comments_count)"
      ],
      "metadata": {
        "colab": {
          "base_uri": "https://localhost:8080/",
          "height": 442
        },
        "id": "tIKYpKH6WD_8",
        "outputId": "6ab94fbe-961d-465e-b3e4-ad2cf084cd62"
      },
      "execution_count": 512,
      "outputs": [
        {
          "output_type": "display_data",
          "data": {
            "text/plain": [
              "<Figure size 720x504 with 1 Axes>"
            ],
            "image/png": "[encoded data removed]"
          },
          "metadata": {
            "needs_background": "light"
          }
        }
      ]
    },
    {
      "cell_type": "markdown",
      "metadata": {
        "id": "HVM06CCZiRVy"
      },
      "source": [
        "Let us see how many issues have less than 10 comments"
      ]
    },
    {
      "cell_type": "code",
      "execution_count": 513,
      "metadata": {
        "colab": {
          "base_uri": "https://localhost:8080/"
        },
        "id": "PmKnMaejiRVz",
        "outputId": "40f3385f-d85f-4d51-d8b8-8b4c575dd3fc"
      },
      "outputs": [
        {
          "output_type": "execute_result",
          "data": {
            "text/plain": [
              "409"
            ]
          },
          "metadata": {},
          "execution_count": 513
        }
      ],
      "source": [
        "less_comments = comments_count[comments_count['comments'] < 10]\n",
        "less_comments.shape[0]"
      ]
    },
    {
      "cell_type": "code",
      "execution_count": 514,
      "metadata": {
        "colab": {
          "base_uri": "https://localhost:8080/"
        },
        "id": "e7I1vTa-iRVz",
        "outputId": "4b82958b-699e-46fe-bd37-ccba84289be6"
      },
      "outputs": [
        {
          "output_type": "stream",
          "name": "stdout",
          "text": [
            "There are 82% of issues that have less than 10 comments.\n"
          ]
        }
      ],
      "source": [
        "print('There are {0:.0%} of issues that have less than 10 comments.'.format(less_comments.shape[0]/df.shape[0]))"
      ]
    },
    {
      "cell_type": "markdown",
      "source": [
        "Analysis of the top 5 most commented issues"
      ],
      "metadata": {
        "id": "ut8V2NFPZJZS"
      }
    },
    {
      "cell_type": "code",
      "source": [
        "comments_count.head(5)[['id', 'title', 'user', 'comments', 'labels', 'creation_year']]"
      ],
      "metadata": {
        "colab": {
          "base_uri": "https://localhost:8080/",
          "height": 206
        },
        "id": "4Y_5JjM0ZIKy",
        "outputId": "3bfe7a92-2b2b-4fca-b391-ccda958756d7"
      },
      "execution_count": 515,
      "outputs": [
        {
          "output_type": "execute_result",
          "data": {
            "text/plain": [
              "             id                                              title       user  \\\n",
              "396   621664652        Add Amazon SES/SNS ingress to ActionMailbox       bobf   \n",
              "118  1117703269  Allow CSRF tokens to be stored outside of sess...  simbasdad   \n",
              "419   496901128  Rails 6 inconsistently overrides ActiveJob que...     searls   \n",
              "381   670939323                 Implement returning for postgresql    00dav00   \n",
              "393   625310727                                   Where with block    brunvez   \n",
              "\n",
              "     comments                                             labels  \\\n",
              "396        69            [railties, docs, pinned, actionmailbox]   \n",
              "118        48  [actionpack, activerecord, docs, actionview, a...   \n",
              "419        41                                        [activejob]   \n",
              "381        38                                     [activerecord]   \n",
              "393        35                              [activerecord, stale]   \n",
              "\n",
              "     creation_year  \n",
              "396           2020  \n",
              "118           2022  \n",
              "419           2019  \n",
              "381           2020  \n",
              "393           2020  "
            ],
            "text/html": [
              "\n",
              "  <div id=\"df-cd42197c-3054-4770-8f7d-fb872bb89201\">\n",
              "    <div class=\"colab-df-container\">\n",
              "      <div>\n",
              "<style scoped>\n",
              "    .dataframe tbody tr th:only-of-type {\n",
              "        vertical-align: middle;\n",
              "    }\n",
              "\n",
              "    .dataframe tbody tr th {\n",
              "        vertical-align: top;\n",
              "    }\n",
              "\n",
              "    .dataframe thead th {\n",
              "        text-align: right;\n",
              "    }\n",
              "</style>\n",
              "<table border=\"1\" class=\"dataframe\">\n",
              "  <thead>\n",
              "    <tr style=\"text-align: right;\">\n",
              "      <th></th>\n",
              "      <th>id</th>\n",
              "      <th>title</th>\n",
              "      <th>user</th>\n",
              "      <th>comments</th>\n",
              "      <th>labels</th>\n",
              "      <th>creation_year</th>\n",
              "    </tr>\n",
              "  </thead>\n",
              "  <tbody>\n",
              "    <tr>\n",
              "      <th>396</th>\n",
              "      <td>621664652</td>\n",
              "      <td>Add Amazon SES/SNS ingress to ActionMailbox</td>\n",
              "      <td>bobf</td>\n",
              "      <td>69</td>\n",
              "      <td>[railties, docs, pinned, actionmailbox]</td>\n",
              "      <td>2020</td>\n",
              "    </tr>\n",
              "    <tr>\n",
              "      <th>118</th>\n",
              "      <td>1117703269</td>\n",
              "      <td>Allow CSRF tokens to be stored outside of sess...</td>\n",
              "      <td>simbasdad</td>\n",
              "      <td>48</td>\n",
              "      <td>[actionpack, activerecord, docs, actionview, a...</td>\n",
              "      <td>2022</td>\n",
              "    </tr>\n",
              "    <tr>\n",
              "      <th>419</th>\n",
              "      <td>496901128</td>\n",
              "      <td>Rails 6 inconsistently overrides ActiveJob que...</td>\n",
              "      <td>searls</td>\n",
              "      <td>41</td>\n",
              "      <td>[activejob]</td>\n",
              "      <td>2019</td>\n",
              "    </tr>\n",
              "    <tr>\n",
              "      <th>381</th>\n",
              "      <td>670939323</td>\n",
              "      <td>Implement returning for postgresql</td>\n",
              "      <td>00dav00</td>\n",
              "      <td>38</td>\n",
              "      <td>[activerecord]</td>\n",
              "      <td>2020</td>\n",
              "    </tr>\n",
              "    <tr>\n",
              "      <th>393</th>\n",
              "      <td>625310727</td>\n",
              "      <td>Where with block</td>\n",
              "      <td>brunvez</td>\n",
              "      <td>35</td>\n",
              "      <td>[activerecord, stale]</td>\n",
              "      <td>2020</td>\n",
              "    </tr>\n",
              "  </tbody>\n",
              "</table>\n",
              "</div>\n",
              "      <button class=\"colab-df-convert\" onclick=\"convertToInteractive('df-cd42197c-3054-4770-8f7d-fb872bb89201')\"\n",
              "              title=\"Convert this dataframe to an interactive table.\"\n",
              "              style=\"display:none;\">\n",
              "        \n",
              "  <svg xmlns=\"http://www.w3.org/2000/svg\" height=\"24px\"viewBox=\"0 0 24 24\"\n",
              "       width=\"24px\">\n",
              "    <path d=\"M0 0h24v24H0V0z\" fill=\"none\"/>\n",
              "    <path d=\"M18.56 5.44l.94 2.06.94-2.06 2.06-.94-2.06-.94-.94-2.06-.94 2.06-2.06.94zm-11 1L8.5 8.5l.94-2.06 2.06-.94-2.06-.94L8.5 2.5l-.94 2.06-2.06.94zm10 10l.94 2.06.94-2.06 2.06-.94-2.06-.94-.94-2.06-.94 2.06-2.06.94z\"/><path d=\"M17.41 7.96l-1.37-1.37c-.4-.4-.92-.59-1.43-.59-.52 0-1.04.2-1.43.59L10.3 9.45l-7.72 7.72c-.78.78-.78 2.05 0 2.83L4 21.41c.39.39.9.59 1.41.59.51 0 1.02-.2 1.41-.59l7.78-7.78 2.81-2.81c.8-.78.8-2.07 0-2.86zM5.41 20L4 18.59l7.72-7.72 1.47 1.35L5.41 20z\"/>\n",
              "  </svg>\n",
              "      </button>\n",
              "      \n",
              "  <style>\n",
              "    .colab-df-container {\n",
              "      display:flex;\n",
              "      flex-wrap:wrap;\n",
              "      gap: 12px;\n",
              "    }\n",
              "\n",
              "    .colab-df-convert {\n",
              "      background-color: #E8F0FE;\n",
              "      border: none;\n",
              "      border-radius: 50%;\n",
              "      cursor: pointer;\n",
              "      display: none;\n",
              "      fill: #1967D2;\n",
              "      height: 32px;\n",
              "      padding: 0 0 0 0;\n",
              "      width: 32px;\n",
              "    }\n",
              "\n",
              "    .colab-df-convert:hover {\n",
              "      background-color: #E2EBFA;\n",
              "      box-shadow: 0px 1px 2px rgba(60, 64, 67, 0.3), 0px 1px 3px 1px rgba(60, 64, 67, 0.15);\n",
              "      fill: #174EA6;\n",
              "    }\n",
              "\n",
              "    [theme=dark] .colab-df-convert {\n",
              "      background-color: #3B4455;\n",
              "      fill: #D2E3FC;\n",
              "    }\n",
              "\n",
              "    [theme=dark] .colab-df-convert:hover {\n",
              "      background-color: #434B5C;\n",
              "      box-shadow: 0px 1px 3px 1px rgba(0, 0, 0, 0.15);\n",
              "      filter: drop-shadow(0px 1px 2px rgba(0, 0, 0, 0.3));\n",
              "      fill: #FFFFFF;\n",
              "    }\n",
              "  </style>\n",
              "\n",
              "      <script>\n",
              "        const buttonEl =\n",
              "          document.querySelector('#df-cd42197c-3054-4770-8f7d-fb872bb89201 button.colab-df-convert');\n",
              "        buttonEl.style.display =\n",
              "          google.colab.kernel.accessAllowed ? 'block' : 'none';\n",
              "\n",
              "        async function convertToInteractive(key) {\n",
              "          const element = document.querySelector('#df-cd42197c-3054-4770-8f7d-fb872bb89201');\n",
              "          const dataTable =\n",
              "            await google.colab.kernel.invokeFunction('convertToInteractive',\n",
              "                                                     [key], {});\n",
              "          if (!dataTable) return;\n",
              "\n",
              "          const docLinkHtml = 'Like what you see? Visit the ' +\n",
              "            '<a target=\"_blank\" href=https://colab.research.google.com/notebooks/data_table.ipynb>data table notebook</a>'\n",
              "            + ' to learn more about interactive tables.';\n",
              "          element.innerHTML = '';\n",
              "          dataTable['output_type'] = 'display_data';\n",
              "          await google.colab.output.renderOutput(dataTable, element);\n",
              "          const docLink = document.createElement('div');\n",
              "          docLink.innerHTML = docLinkHtml;\n",
              "          element.appendChild(docLink);\n",
              "        }\n",
              "      </script>\n",
              "    </div>\n",
              "  </div>\n",
              "  "
            ]
          },
          "metadata": {},
          "execution_count": 515
        }
      ]
    },
    {
      "cell_type": "markdown",
      "source": [
        "Three of them were created in 2020. Three of them concerns active record. The second most commented issue is from earlier this year 2022. The most commented issue concerns integrating some Amazon mail and notification services into Rails."
      ],
      "metadata": {
        "id": "vXWjccmWZcYH"
      }
    }
  ],
  "metadata": {
    "interpreter": {
      "hash": "e95c0d9108b914d059b5e72470d1a179155291a7cbc17f528b941f23e7168d6e"
    },
    "kernelspec": {
      "display_name": "Python 3.8.5 ('.venv': poetry)",
      "language": "python",
      "name": "python3"
    },
    "language_info": {
      "codemirror_mode": {
        "name": "ipython",
        "version": 3
      },
      "file_extension": ".py",
      "mimetype": "text/x-python",
      "name": "python",
      "nbconvert_exporter": "python",
      "pygments_lexer": "ipython3",
      "version": "3.8.5"
    },
    "orig_nbformat": 4,
    "colab": {
      "name": "Rails Issues Analysis.ipynb",
      "provenance": [],
      "collapsed_sections": [
        "qTi4YL9SiRVi",
        "jySHUbTYiRVr"
      ],
      "toc_visible": true,
      "include_colab_link": true
    }
  },
  "nbformat": 4,
  "nbformat_minor": 0
}